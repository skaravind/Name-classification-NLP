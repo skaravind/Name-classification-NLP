{
 "cells": [
  {
   "cell_type": "code",
   "execution_count": 8,
   "metadata": {},
   "outputs": [
    {
     "name": "stderr",
     "output_type": "stream",
     "text": [
      "100%|██████████| 120719/120719 [00:03<00:00, 31093.11it/s]\n"
     ]
    }
   ],
   "source": [
    "import pandas as pd\n",
    "import gensim \n",
    "from gensim.models import Word2Vec \n",
    "from tqdm import tqdm\n",
    "import re\n",
    "import numpy as np\n",
    "  \n",
    "dataset = pd.read_csv(\"data/names_combined.csv\")\n",
    "\n",
    "dataset.dropna(inplace=True)\n",
    "dataset.replace('b','black',inplace=True)\n",
    "  \n",
    "data = [] \n",
    "corpus = []\n",
    "\n",
    "def features(name):\n",
    "\tname = re.sub(' ','',name)\n",
    "\tbigrams = []\n",
    "\ttrigrams = []\n",
    "\tfor i in range(len(name)-1):\n",
    "\t\tbigrams.append(name[i:i+2])\n",
    "\t\tif i < len(name) - 2:\n",
    "\t\t\ttrigrams.append(name[i:i+3])\n",
    "\ttrigrams.append(name[-3:])\n",
    "\treturn bigrams+trigrams\n",
    "\n",
    "for i in tqdm(range(len(dataset['name']))):\n",
    "\ttemp = []\n",
    "\treview = re.sub('[^a-zA-Z]', ' ', dataset['name'].values[i])\n",
    "\treview = review.lower()\n",
    "\ttemp = list(review) + features(review)\n",
    "\tdata.append(temp)\n",
    "\tcorpus.append(review)"
   ]
  },
  {
   "cell_type": "code",
   "execution_count": 9,
   "metadata": {},
   "outputs": [
    {
     "name": "stdout",
     "output_type": "stream",
     "text": [
      "model created\n"
     ]
    },
    {
     "name": "stderr",
     "output_type": "stream",
     "text": [
      "  0%|          | 0/120719 [00:00<?, ?it/s]/Library/Frameworks/Python.framework/Versions/3.6/lib/python3.6/site-packages/ipykernel_launcher.py:9: DeprecationWarning: Call to deprecated `__getitem__` (Method will be removed in 4.0.0, use self.wv.__getitem__() instead).\n",
      "  if __name__ == '__main__':\n",
      "  0%|          | 480/120719 [00:00<00:25, 4794.57it/s]"
     ]
    },
    {
     "name": "stdout",
     "output_type": "stream",
     "text": [
      "model trained\n"
     ]
    },
    {
     "name": "stderr",
     "output_type": "stream",
     "text": [
      "100%|██████████| 120719/120719 [00:23<00:00, 5204.09it/s]\n"
     ]
    }
   ],
   "source": [
    "# Create CBOW model \n",
    "model1 = gensim.models.Word2Vec(data, min_count = 1, size = 300, window = 10) \n",
    "print('model created')\n",
    "model1.train(data,total_examples=model1.corpus_count, epochs=30)\n",
    "print('model trained')"
   ]
  },
  {
   "cell_type": "code",
   "execution_count": 70,
   "metadata": {},
   "outputs": [
    {
     "name": "stderr",
     "output_type": "stream",
     "text": [
      "  0%|          | 0/120719 [00:00<?, ?it/s]/Library/Frameworks/Python.framework/Versions/3.6/lib/python3.6/site-packages/ipykernel_launcher.py:4: DeprecationWarning: Call to deprecated `__getitem__` (Method will be removed in 4.0.0, use self.wv.__getitem__() instead).\n",
      "  after removing the cwd from sys.path.\n",
      "100%|██████████| 120719/120719 [00:24<00:00, 4937.39it/s]\n"
     ]
    }
   ],
   "source": [
    "y = dataset.iloc[:, 2].values\n",
    "X = []\n",
    "for c in tqdm(corpus):\n",
    "\tvecs = model1[list(c) + features(c)]\n",
    "\tX.append(vecs.sum(axis=0))\n",
    "X = np.array(X)"
   ]
  },
  {
   "cell_type": "code",
   "execution_count": 71,
   "metadata": {},
   "outputs": [],
   "source": [
    "from imblearn.over_sampling import SMOTE, RandomOverSampler\n",
    "ros = RandomOverSampler(random_state=42)\n",
    "X, y = ros.fit_resample(X, y)"
   ]
  },
  {
   "cell_type": "code",
   "execution_count": 72,
   "metadata": {},
   "outputs": [],
   "source": [
    "from sklearn.preprocessing import OneHotEncoder\n",
    "enc = OneHotEncoder()\n",
    "y = enc.fit_transform(y.reshape(-1,1)).toarray()"
   ]
  },
  {
   "cell_type": "code",
   "execution_count": null,
   "metadata": {},
   "outputs": [],
   "source": [
    "from sklearn.model_selection import train_test_split\n",
    "X_train, X_test, y_train, y_test = train_test_split(X, y, test_size = 0.20, random_state = 0)"
   ]
  },
  {
   "cell_type": "code",
   "execution_count": null,
   "metadata": {},
   "outputs": [
    {
     "name": "stderr",
     "output_type": "stream",
     "text": [
      "/Library/Frameworks/Python.framework/Versions/3.6/lib/python3.6/site-packages/ipykernel_launcher.py:17: UserWarning: Update your `Dense` call to the Keras 2 API: `Dense(input_dim=300, activation=\"relu\", units=256)`\n",
      "/Library/Frameworks/Python.framework/Versions/3.6/lib/python3.6/site-packages/ipykernel_launcher.py:20: UserWarning: Update your `Dense` call to the Keras 2 API: `Dense(activation=\"relu\", units=256)`\n",
      "/Library/Frameworks/Python.framework/Versions/3.6/lib/python3.6/site-packages/ipykernel_launcher.py:23: UserWarning: Update your `Dense` call to the Keras 2 API: `Dense(activation=\"relu\", units=128)`\n",
      "/Library/Frameworks/Python.framework/Versions/3.6/lib/python3.6/site-packages/ipykernel_launcher.py:26: UserWarning: Update your `Dense` call to the Keras 2 API: `Dense(activation=\"relu\", units=128)`\n",
      "/Library/Frameworks/Python.framework/Versions/3.6/lib/python3.6/site-packages/ipykernel_launcher.py:29: UserWarning: Update your `Dense` call to the Keras 2 API: `Dense(activation=\"relu\", units=64)`\n",
      "/Library/Frameworks/Python.framework/Versions/3.6/lib/python3.6/site-packages/ipykernel_launcher.py:32: UserWarning: Update your `Dense` call to the Keras 2 API: `Dense(activation=\"relu\", units=64)`\n",
      "/Library/Frameworks/Python.framework/Versions/3.6/lib/python3.6/site-packages/ipykernel_launcher.py:35: UserWarning: Update your `Dense` call to the Keras 2 API: `Dense(activation=\"relu\", units=32)`\n",
      "/Library/Frameworks/Python.framework/Versions/3.6/lib/python3.6/site-packages/ipykernel_launcher.py:38: UserWarning: Update your `Dense` call to the Keras 2 API: `Dense(activation=\"softmax\", units=4)`\n"
     ]
    },
    {
     "name": "stdout",
     "output_type": "stream",
     "text": [
      "Train on 155664 samples, validate on 38916 samples\n",
      "Epoch 1/60\n",
      "155664/155664 [==============================] - 18s 116us/step - loss: 0.6291 - acc: 0.7213 - val_loss: 0.5134 - val_acc: 0.7677\n",
      "Epoch 2/60\n",
      "155664/155664 [==============================] - 13s 86us/step - loss: 0.5076 - acc: 0.7799 - val_loss: 0.4985 - val_acc: 0.7841\n",
      "Epoch 3/60\n",
      "114944/155664 [=====================>........] - ETA: 3s - loss: 0.4813 - acc: 0.7930"
     ]
    }
   ],
   "source": [
    "# Fitting classifier to the Training set\n",
    "# from sklearn.ensemble import RandomForestClassifier\n",
    "# classifier = RandomForestClassifier(n_estimators=10, criterion='entropy', random_state=0, verbose=2, n_jobs=-1)\n",
    "# classifier.fit(X_train, y_train)\n",
    "\n",
    "import keras\n",
    "from keras.models import Sequential\n",
    "from keras.layers import Dense, Dropout, GRU, LSTM, Flatten\n",
    "from keras.layers.normalization import BatchNormalization\n",
    "\n",
    "classifier = Sequential()\n",
    "\n",
    "######## race classification 87% test accuracy\n",
    "classifier.add(Dense(input_dim=300, output_dim=256, activation='relu'))\n",
    "classifier.add(BatchNormalization())\n",
    "classifier.add(Dropout(0.2))  # Dropout overfitting\n",
    "classifier.add(Dense(output_dim=256, activation='relu'))\n",
    "classifier.add(BatchNormalization())\n",
    "classifier.add(Dropout(0.1))\n",
    "classifier.add(Dense(output_dim=128, activation='relu'))\n",
    "classifier.add(BatchNormalization())\n",
    "classifier.add(Dropout(0.1))\n",
    "classifier.add(Dense(output_dim=128, activation='relu'))\n",
    "classifier.add(BatchNormalization())\n",
    "classifier.add(Dropout(0.1))\n",
    "classifier.add(Dense(output_dim=64, activation='relu'))\n",
    "classifier.add(BatchNormalization())\n",
    "classifier.add(Dropout(0.1))\n",
    "classifier.add(Dense(output_dim=64, activation='relu'))\n",
    "classifier.add(BatchNormalization())\n",
    "classifier.add(Dropout(0.1))\n",
    "classifier.add(Dense(output_dim=32, activation='relu'))\n",
    "classifier.add(BatchNormalization())\n",
    "classifier.add(Dropout(0.1))\n",
    "classifier.add(Dense(output_dim=4, activation='softmax'))\n",
    "\n",
    "##### gender classification model 98% test acc\n",
    "# classifier.add(Dense(input_dim=300, output_dim=256, activation='relu'))\n",
    "# classifier.add(BatchNormalization())\n",
    "# classifier.add(Dropout(0.1))  # Dropout overfitting\n",
    "# classifier.add(Dense(output_dim=128, activation='relu'))\n",
    "# classifier.add(BatchNormalization())\n",
    "# classifier.add(Dropout(0.1))\n",
    "# classifier.add(Dense(output_dim=128, activation='relu'))\n",
    "# classifier.add(BatchNormalization())\n",
    "# classifier.add(Dropout(0.1))\n",
    "# classifier.add(Dense(output_dim=64, activation='relu'))\n",
    "# classifier.add(BatchNormalization())\n",
    "# classifier.add(Dropout(0.1))\n",
    "# classifier.add(Dense(output_dim=64, activation='relu'))\n",
    "# classifier.add(BatchNormalization())\n",
    "# classifier.add(Dropout(0.1))\n",
    "# classifier.add(Dense(output_dim=32, activation='relu'))\n",
    "# classifier.add(BatchNormalization())\n",
    "# classifier.add(Dropout(0.1))\n",
    "# classifier.add(Dense(output_dim=2, activation='softmax'))\n",
    "\n",
    "\n",
    "classifier.compile(loss=\"categorical_crossentropy\", optimizer=\"adam\", metrics = ['accuracy']) # Nadam rmsprop\n",
    "history = classifier.fit(X_train, y_train, validation_data=(X_test, y_test), epochs=60, batch_size=128)"
   ]
  },
  {
   "cell_type": "code",
   "execution_count": 65,
   "metadata": {},
   "outputs": [],
   "source": [
    "def predict_gen(name):\n",
    "    classes = ['female','male']\n",
    "    namevec = model1[list(name)+features(name)].sum(axis=0).flatten()\n",
    "    pred = classifier.predict(namevec.reshape(1,300))\n",
    "    predprob = pred[0][np.argmax(pred)]*100\n",
    "    gender = classes[np.argmax(classifier.predict(namevec.reshape(1,300)))]\n",
    "    return f'{name} is probably a {gender}.... chances:{predprob}%'\n",
    "\n",
    "def predict_race(name):\n",
    "    classes = ['black','hispanic','indian','white']\n",
    "    namevec = model1[list(name)+features(name)].sum(axis=0).flatten()\n",
    "    pred = classifier.predict(namevec.reshape(1,300))\n",
    "    predprob = pred[0][np.argmax(pred)]*100\n",
    "    race = classes[np.argmax(classifier.predict(namevec.reshape(1,300)))]\n",
    "    return f'{name} is probably {race}.... chances:{predprob}%'"
   ]
  },
  {
   "cell_type": "code",
   "execution_count": 69,
   "metadata": {},
   "outputs": [
    {
     "name": "stderr",
     "output_type": "stream",
     "text": [
      "/Library/Frameworks/Python.framework/Versions/3.6/lib/python3.6/site-packages/ipykernel_launcher.py:3: DeprecationWarning: Call to deprecated `__getitem__` (Method will be removed in 4.0.0, use self.wv.__getitem__() instead).\n",
      "  This is separate from the ipykernel package so we can avoid doing imports until\n"
     ]
    },
    {
     "data": {
      "text/plain": [
       "'emily is probably a female.... chances:91.40109419822693'"
      ]
     },
     "execution_count": 69,
     "metadata": {},
     "output_type": "execute_result"
    }
   ],
   "source": [
    "predict_gen('emily')"
   ]
  },
  {
   "cell_type": "code",
   "execution_count": null,
   "metadata": {},
   "outputs": [],
   "source": []
  }
 ],
 "metadata": {
  "kernelspec": {
   "display_name": "Python 3",
   "language": "python",
   "name": "python3"
  },
  "language_info": {
   "codemirror_mode": {
    "name": "ipython",
    "version": 3
   },
   "file_extension": ".py",
   "mimetype": "text/x-python",
   "name": "python",
   "nbconvert_exporter": "python",
   "pygments_lexer": "ipython3",
   "version": "3.6.5"
  }
 },
 "nbformat": 4,
 "nbformat_minor": 2
}
