{
 "cells": [
  {
   "cell_type": "code",
   "execution_count": 174,
   "metadata": {},
   "outputs": [
    {
     "name": "stderr",
     "output_type": "stream",
     "text": [
      "100%|██████████| 120719/120719 [00:03<00:00, 35835.28it/s]\n"
     ]
    }
   ],
   "source": [
    "import pandas as pd\n",
    "import gensim \n",
    "from gensim.models import Word2Vec \n",
    "from tqdm import tqdm\n",
    "import re\n",
    "import numpy as np\n",
    "  \n",
    "dataset = pd.read_csv(\"data/names_combined.csv\")\n",
    "\n",
    "dataset.dropna(inplace=True)\n",
    "dataset.replace('b','black',inplace=True)\n",
    "  \n",
    "data = [] \n",
    "corpus = []\n",
    "\n",
    "def features(name):\n",
    "    name = re.sub(' ','',name)\n",
    "    bigrams = []\n",
    "    trigrams = []\n",
    "    for i in range(len(name)-1):\n",
    "        bigrams.append(name[i:i+2])\n",
    "        if i < len(name) - 2:\n",
    "            trigrams.append(name[i:i+3])\n",
    "    trigrams.append(name[-3:])\n",
    "    fets = bigrams+trigrams\n",
    "    return bigrams+trigrams\n",
    "\n",
    "for i in tqdm(range(len(dataset['name']))):\n",
    "    temp = []\n",
    "    review = re.sub('[^a-zA-Z]', ' ', dataset['name'].values[i])\n",
    "    review = re.sub('  ', ' ', review)\n",
    "    review = review.lower()\n",
    "    if review[0] == ' ':\n",
    "        review=review[1:]\n",
    "    temp = list(review) + features(review)\n",
    "    data.append(temp)\n",
    "    corpus.append(review)"
   ]
  },
  {
   "cell_type": "code",
   "execution_count": 175,
   "metadata": {},
   "outputs": [
    {
     "name": "stdout",
     "output_type": "stream",
     "text": [
      "model created\n",
      "model trained\n"
     ]
    }
   ],
   "source": [
    "# Create & train Char vec model\n",
    "model1 = gensim.models.Word2Vec(data, min_count = 1, size = 300, window = 10) ## 300,10\n",
    "print('model created')\n",
    "model1.train(data,total_examples=model1.corpus_count, epochs=15)\n",
    "print('model trained')"
   ]
  },
  {
   "cell_type": "code",
   "execution_count": 176,
   "metadata": {},
   "outputs": [
    {
     "name": "stderr",
     "output_type": "stream",
     "text": [
      "  0%|          | 0/120719 [00:00<?, ?it/s]/Library/Frameworks/Python.framework/Versions/3.6/lib/python3.6/site-packages/ipykernel_launcher.py:4: DeprecationWarning: Call to deprecated `__getitem__` (Method will be removed in 4.0.0, use self.wv.__getitem__() instead).\n",
      "  after removing the cwd from sys.path.\n",
      "100%|██████████| 120719/120719 [00:26<00:00, 4523.79it/s]\n"
     ]
    }
   ],
   "source": [
    "y = dataset.iloc[:, 2].values\n",
    "X = []\n",
    "for c in tqdm(corpus):\n",
    "\tvecs = model1[list(c) + features(c)]\n",
    "\tX.append(vecs.sum(axis=0))\n",
    "X = np.array(X)"
   ]
  },
  {
   "cell_type": "code",
   "execution_count": 177,
   "metadata": {},
   "outputs": [],
   "source": [
    "from imblearn.over_sampling import SMOTE, RandomOverSampler\n",
    "ros = RandomOverSampler(random_state=42)\n",
    "X, y = ros.fit_resample(X, y)"
   ]
  },
  {
   "cell_type": "code",
   "execution_count": 178,
   "metadata": {},
   "outputs": [],
   "source": [
    "from sklearn.preprocessing import OneHotEncoder\n",
    "enc = OneHotEncoder()\n",
    "y = enc.fit_transform(y.reshape(-1,1)).toarray()"
   ]
  },
  {
   "cell_type": "code",
   "execution_count": 179,
   "metadata": {},
   "outputs": [],
   "source": [
    "from sklearn.model_selection import train_test_split\n",
    "X_train, X_test, y_train, y_test = train_test_split(X, y, test_size = 0.20)#, random_state = 0)"
   ]
  },
  {
   "cell_type": "code",
   "execution_count": 180,
   "metadata": {},
   "outputs": [],
   "source": [
    "#Feature Scaling\n",
    "from sklearn.preprocessing import StandardScaler\n",
    "sc = StandardScaler()\n",
    "X_train = sc.fit_transform(X_train)\n",
    "X_test = sc.transform(X_test)"
   ]
  },
  {
   "cell_type": "code",
   "execution_count": 9,
   "metadata": {
    "scrolled": true
   },
   "outputs": [
    {
     "name": "stderr",
     "output_type": "stream",
     "text": [
      "/Library/Frameworks/Python.framework/Versions/3.6/lib/python3.6/site-packages/sklearn/linear_model/logistic.py:460: FutureWarning: Default multi_class will be changed to 'auto' in 0.22. Specify the multi_class option to silence this warning.\n",
      "  \"this warning.\", FutureWarning)\n",
      "[Parallel(n_jobs=3)]: Using backend ThreadingBackend with 3 concurrent workers.\n"
     ]
    },
    {
     "name": "stdout",
     "output_type": "stream",
     "text": [
      "max_iter reached after 48 seconds\n",
      "max_iter reached after 48 seconds\n",
      "max_iter reached after 48 seconds\n"
     ]
    },
    {
     "name": "stderr",
     "output_type": "stream",
     "text": [
      "/Library/Frameworks/Python.framework/Versions/3.6/lib/python3.6/site-packages/sklearn/linear_model/sag.py:334: ConvergenceWarning: The max_iter was reached which means the coef_ did not converge\n",
      "  \"the coef_ did not converge\", ConvergenceWarning)\n",
      "[Parallel(n_jobs=3)]: Done   2 out of   4 | elapsed:   48.1s remaining:   48.1s\n"
     ]
    },
    {
     "name": "stdout",
     "output_type": "stream",
     "text": [
      "max_iter reached after 22 seconds\n"
     ]
    },
    {
     "name": "stderr",
     "output_type": "stream",
     "text": [
      "[Parallel(n_jobs=3)]: Done   4 out of   4 | elapsed:  1.2min finished\n"
     ]
    },
    {
     "name": "stdout",
     "output_type": "stream",
     "text": [
      "[[7058  420   98 2241]\n",
      " [ 285 8875   53  567]\n",
      " [ 102   60 9521   59]\n",
      " [2957 1613  124 4883]]\n",
      "              precision    recall  f1-score   support\n",
      "\n",
      "       black       0.68      0.72      0.70      9817\n",
      "    hispanic       0.81      0.91      0.86      9780\n",
      "      indian       0.97      0.98      0.97      9742\n",
      "       white       0.63      0.51      0.56      9577\n",
      "\n",
      "   micro avg       0.78      0.78      0.78     38916\n",
      "   macro avg       0.77      0.78      0.77     38916\n",
      "weighted avg       0.77      0.78      0.77     38916\n",
      "\n"
     ]
    }
   ],
   "source": [
    "# from sklearn.linear_model import LogisticRegression\n",
    "# classifier = LogisticRegression(max_iter=40,random_state = 0, solver='sag',verbose=2,n_jobs=3)\n",
    "# classifier.fit(X_train, y_train)\n",
    "# y_pred = classifier.predict(X_test)\n",
    "\n",
    "# # Making the Confusion Matrix\n",
    "# from sklearn.metrics import confusion_matrix, classification_report\n",
    "# cm = confusion_matrix(y_test, y_pred)\n",
    "# print(cm)\n",
    "# print(classification_report(y_test, y_pred,target_names=classifier.classes_))"
   ]
  },
  {
   "cell_type": "code",
   "execution_count": 181,
   "metadata": {},
   "outputs": [
    {
     "name": "stderr",
     "output_type": "stream",
     "text": [
      "/Library/Frameworks/Python.framework/Versions/3.6/lib/python3.6/site-packages/ipykernel_launcher.py:10: UserWarning: Update your `Dense` call to the Keras 2 API: `Dense(input_dim=300, activation=\"relu\", units=256)`\n",
      "  # Remove the CWD from sys.path while we load stuff.\n",
      "/Library/Frameworks/Python.framework/Versions/3.6/lib/python3.6/site-packages/ipykernel_launcher.py:13: UserWarning: Update your `Dense` call to the Keras 2 API: `Dense(activation=\"relu\", units=256)`\n",
      "  del sys.path[0]\n",
      "/Library/Frameworks/Python.framework/Versions/3.6/lib/python3.6/site-packages/ipykernel_launcher.py:16: UserWarning: Update your `Dense` call to the Keras 2 API: `Dense(activation=\"relu\", units=128)`\n",
      "  app.launch_new_instance()\n",
      "/Library/Frameworks/Python.framework/Versions/3.6/lib/python3.6/site-packages/ipykernel_launcher.py:19: UserWarning: Update your `Dense` call to the Keras 2 API: `Dense(activation=\"relu\", units=128)`\n",
      "/Library/Frameworks/Python.framework/Versions/3.6/lib/python3.6/site-packages/ipykernel_launcher.py:22: UserWarning: Update your `Dense` call to the Keras 2 API: `Dense(activation=\"relu\", units=64)`\n",
      "/Library/Frameworks/Python.framework/Versions/3.6/lib/python3.6/site-packages/ipykernel_launcher.py:25: UserWarning: Update your `Dense` call to the Keras 2 API: `Dense(activation=\"relu\", units=32)`\n",
      "/Library/Frameworks/Python.framework/Versions/3.6/lib/python3.6/site-packages/ipykernel_launcher.py:28: UserWarning: Update your `Dense` call to the Keras 2 API: `Dense(activation=\"softmax\", units=4)`\n"
     ]
    },
    {
     "name": "stdout",
     "output_type": "stream",
     "text": [
      "Train on 155664 samples, validate on 38916 samples\n",
      "Epoch 1/40\n",
      "155664/155664 [==============================] - 17s 109us/step - loss: 0.5841 - acc: 0.7465 - val_loss: 0.4744 - val_acc: 0.7931\n",
      "Epoch 2/40\n",
      "155664/155664 [==============================] - 12s 76us/step - loss: 0.4837 - acc: 0.7908 - val_loss: 0.4376 - val_acc: 0.8098\n",
      "Epoch 3/40\n",
      "155664/155664 [==============================] - 12s 79us/step - loss: 0.4533 - acc: 0.8040 - val_loss: 0.4157 - val_acc: 0.8183\n",
      "Epoch 4/40\n",
      "155664/155664 [==============================] - 12s 76us/step - loss: 0.4307 - acc: 0.8130 - val_loss: 0.4018 - val_acc: 0.8249\n",
      "Epoch 5/40\n",
      "155664/155664 [==============================] - 12s 77us/step - loss: 0.4162 - acc: 0.8194 - val_loss: 0.3938 - val_acc: 0.8273\n",
      "Epoch 6/40\n",
      "155664/155664 [==============================] - 12s 77us/step - loss: 0.4124 - acc: 0.8223 - val_loss: 0.3872 - val_acc: 0.8313\n",
      "Epoch 7/40\n",
      "155664/155664 [==============================] - 12s 77us/step - loss: 0.3961 - acc: 0.8279 - val_loss: 0.3785 - val_acc: 0.8335\n",
      "Epoch 8/40\n",
      "155664/155664 [==============================] - 12s 77us/step - loss: 0.3904 - acc: 0.8313 - val_loss: 0.3787 - val_acc: 0.8345\n",
      "Epoch 9/40\n",
      "155664/155664 [==============================] - 12s 77us/step - loss: 0.3782 - acc: 0.8366 - val_loss: 0.3755 - val_acc: 0.8343\n",
      "Epoch 10/40\n",
      "155664/155664 [==============================] - 12s 79us/step - loss: 0.3720 - acc: 0.8399 - val_loss: 0.3650 - val_acc: 0.8398\n",
      "Epoch 11/40\n",
      "155664/155664 [==============================] - 12s 79us/step - loss: 0.3654 - acc: 0.8420 - val_loss: 0.3597 - val_acc: 0.8410\n",
      "Epoch 12/40\n",
      "155664/155664 [==============================] - 12s 79us/step - loss: 0.3586 - acc: 0.8446 - val_loss: 0.3564 - val_acc: 0.8436\n",
      "Epoch 13/40\n",
      "155664/155664 [==============================] - 12s 79us/step - loss: 0.3558 - acc: 0.8465 - val_loss: 0.3544 - val_acc: 0.8454\n",
      "Epoch 14/40\n",
      "155664/155664 [==============================] - 15s 98us/step - loss: 0.3490 - acc: 0.8486 - val_loss: 0.3535 - val_acc: 0.8443\n",
      "Epoch 15/40\n",
      "155664/155664 [==============================] - 14s 91us/step - loss: 0.3426 - acc: 0.8514 - val_loss: 0.3557 - val_acc: 0.8431\n",
      "Epoch 16/40\n",
      "155664/155664 [==============================] - 14s 92us/step - loss: 0.3366 - acc: 0.8553 - val_loss: 0.3435 - val_acc: 0.8490\n",
      "Epoch 17/40\n",
      "155664/155664 [==============================] - 13s 84us/step - loss: 0.3322 - acc: 0.8571 - val_loss: 0.3466 - val_acc: 0.8489\n",
      "Epoch 18/40\n",
      "155664/155664 [==============================] - 13s 82us/step - loss: 0.3279 - acc: 0.8578 - val_loss: 0.3475 - val_acc: 0.8462\n",
      "Epoch 19/40\n",
      "155664/155664 [==============================] - 13s 83us/step - loss: 0.3235 - acc: 0.8609 - val_loss: 0.3431 - val_acc: 0.8495\n",
      "Epoch 20/40\n",
      "155664/155664 [==============================] - 14s 91us/step - loss: 0.3245 - acc: 0.8611 - val_loss: 0.3503 - val_acc: 0.8480\n",
      "Epoch 21/40\n",
      "155664/155664 [==============================] - 12s 75us/step - loss: 0.3178 - acc: 0.8631 - val_loss: 0.3452 - val_acc: 0.8495\n",
      "Epoch 22/40\n",
      "155664/155664 [==============================] - 13s 84us/step - loss: 0.3103 - acc: 0.8656 - val_loss: 0.3376 - val_acc: 0.8495\n",
      "Epoch 23/40\n",
      "155664/155664 [==============================] - 13s 82us/step - loss: 0.3075 - acc: 0.8673 - val_loss: 0.3400 - val_acc: 0.8501\n",
      "Epoch 24/40\n",
      "155664/155664 [==============================] - 14s 88us/step - loss: 0.3061 - acc: 0.8682 - val_loss: 0.3411 - val_acc: 0.8533\n",
      "Epoch 25/40\n",
      "155664/155664 [==============================] - 14s 93us/step - loss: 0.2989 - acc: 0.8713 - val_loss: 0.3380 - val_acc: 0.8530\n",
      "Epoch 26/40\n",
      "155664/155664 [==============================] - 13s 87us/step - loss: 0.2987 - acc: 0.8713 - val_loss: 0.3398 - val_acc: 0.8548\n",
      "Epoch 27/40\n",
      "155664/155664 [==============================] - 13s 82us/step - loss: 0.2914 - acc: 0.8748 - val_loss: 0.3298 - val_acc: 0.8571\n",
      "Epoch 28/40\n",
      "155664/155664 [==============================] - 13s 83us/step - loss: 0.2906 - acc: 0.8756 - val_loss: 0.3347 - val_acc: 0.8563\n",
      "Epoch 29/40\n",
      "155664/155664 [==============================] - 13s 83us/step - loss: 0.2883 - acc: 0.8768 - val_loss: 0.3325 - val_acc: 0.8560\n",
      "Epoch 30/40\n",
      "155664/155664 [==============================] - 14s 92us/step - loss: 0.2836 - acc: 0.8775 - val_loss: 0.3391 - val_acc: 0.8533\n",
      "Epoch 31/40\n",
      "155664/155664 [==============================] - 15s 97us/step - loss: 0.2824 - acc: 0.8791 - val_loss: 0.3341 - val_acc: 0.8558\n",
      "Epoch 32/40\n",
      "155664/155664 [==============================] - 15s 99us/step - loss: 0.2800 - acc: 0.8808 - val_loss: 0.3348 - val_acc: 0.8565\n",
      "Epoch 33/40\n",
      "155664/155664 [==============================] - 15s 94us/step - loss: 0.2768 - acc: 0.8817 - val_loss: 0.3412 - val_acc: 0.8549\n",
      "Epoch 34/40\n",
      "155664/155664 [==============================] - 12s 80us/step - loss: 0.2719 - acc: 0.8839 - val_loss: 0.3385 - val_acc: 0.8559\n",
      "Epoch 35/40\n",
      "155664/155664 [==============================] - 14s 88us/step - loss: 0.2707 - acc: 0.8849 - val_loss: 0.3336 - val_acc: 0.8573\n",
      "Epoch 36/40\n",
      "155664/155664 [==============================] - 14s 91us/step - loss: 0.2689 - acc: 0.8850 - val_loss: 0.3318 - val_acc: 0.8570\n",
      "Epoch 37/40\n",
      "155664/155664 [==============================] - 13s 84us/step - loss: 0.2659 - acc: 0.8874 - val_loss: 0.3319 - val_acc: 0.8601\n",
      "Epoch 38/40\n",
      "155664/155664 [==============================] - 13s 83us/step - loss: 0.2651 - acc: 0.8864 - val_loss: 0.3330 - val_acc: 0.8604\n",
      "Epoch 39/40\n",
      "155664/155664 [==============================] - 13s 81us/step - loss: 0.2603 - acc: 0.8893 - val_loss: 0.3331 - val_acc: 0.8605\n",
      "Epoch 40/40\n",
      "155664/155664 [==============================] - 11s 73us/step - loss: 0.2594 - acc: 0.8901 - val_loss: 0.3270 - val_acc: 0.8604\n"
     ]
    }
   ],
   "source": [
    "import keras\n",
    "from keras.models import Sequential\n",
    "from keras.layers import Dense, Dropout, GRU, LSTM, Flatten\n",
    "from keras.layers.normalization import BatchNormalization\n",
    "from keras import optimizers\n",
    "\n",
    "classifier = Sequential()\n",
    "\n",
    "######## race classification 87% test accuracy\n",
    "classifier.add(Dense(input_dim=300, output_dim=256, activation='relu'))\n",
    "classifier.add(BatchNormalization())\n",
    "classifier.add(Dropout(0.2))  # Dropout overfitting\n",
    "classifier.add(Dense(output_dim=256, activation='relu'))\n",
    "classifier.add(BatchNormalization())\n",
    "classifier.add(Dropout(0.1))\n",
    "classifier.add(Dense(output_dim=128, activation='relu'))\n",
    "classifier.add(BatchNormalization())\n",
    "classifier.add(Dropout(0.1))\n",
    "classifier.add(Dense(output_dim=128, activation='relu'))\n",
    "classifier.add(BatchNormalization())\n",
    "classifier.add(Dropout(0.1))\n",
    "classifier.add(Dense(output_dim=64, activation='relu'))\n",
    "classifier.add(BatchNormalization())\n",
    "classifier.add(Dropout(0.1))\n",
    "classifier.add(Dense(output_dim=32, activation='relu'))\n",
    "classifier.add(BatchNormalization())\n",
    "classifier.add(Dropout(0.1))\n",
    "classifier.add(Dense(output_dim=4, activation='softmax'))\n",
    "\n",
    "##### gender classification model 98% test acc\n",
    "# classifier1.add(Dense(input_dim=300, output_dim=256, activation='relu'))\n",
    "# classifier1.add(BatchNormalization())\n",
    "# classifier1.add(Dropout(0.1))  # Dropout overfitting\n",
    "# classifier1.add(Dense(output_dim=128, activation='relu'))\n",
    "# classifier1.add(BatchNormalization())\n",
    "# classifier1.add(Dropout(0.1))\n",
    "# classifier1.add(Dense(output_dim=128, activation='relu'))\n",
    "# classifier1.add(BatchNormalization())\n",
    "# classifier1.add(Dropout(0.1))\n",
    "# classifier1.add(Dense(output_dim=64, activation='relu'))\n",
    "# classifier1.add(BatchNormalization())\n",
    "# classifier1.add(Dropout(0.1))\n",
    "# classifier1.add(Dense(output_dim=64, activation='relu'))\n",
    "# classifier1.add(BatchNormalization())\n",
    "# classifier1.add(Dropout(0.1))\n",
    "# classifier1.add(Dense(output_dim=32, activation='relu'))\n",
    "# classifier1.add(BatchNormalization())\n",
    "# classifier1.add(Dropout(0.1))\n",
    "# classifier1.add(Dense(output_dim=2, activation='softmax'))\n",
    "\n",
    "\n",
    "classifier.compile(loss=\"categorical_crossentropy\", optimizer=\"adam\", metrics = ['accuracy'])\n",
    "history = classifier.fit(X_train, y_train, validation_data=(X_test, y_test), epochs=40, batch_size=256)\n",
    "\n",
    "# classifier1.compile(loss=\"categorical_crossentropy\", optimizer=\"adam\", metrics = ['accuracy'])\n",
    "# history1 = classifier1.fit(X_train, y_train, validation_data=(X_test, y_test), epochs=60, batch_size=256)"
   ]
  },
  {
   "cell_type": "code",
   "execution_count": 212,
   "metadata": {},
   "outputs": [],
   "source": [
    "def predict_gen(name):\n",
    "    name = name.lower()\n",
    "    classes = ['female','male']\n",
    "    namevec = model1[list(name)+features(name)].sum(axis=0).flatten()\n",
    "    pred = classifier1.predict(namevec.reshape(1,300))\n",
    "    predprob = pred[0][np.argmax(pred)]*100\n",
    "    gender = classes[np.argmax(pred)]\n",
    "    return f'{name} is probably a {gender}.... chances:{predprob}%'\n",
    "\n",
    "def predict_race(name):\n",
    "    try:\n",
    "        name = name.lower()\n",
    "        classes = ['black','hispanic','indian','white']\n",
    "        namevec = model1[list(name)+features(name)].sum(axis=0).flatten()\n",
    "        pred = classifier.predict(sc.transform(namevec.reshape(1,300)))\n",
    "        predprob = pred[0][np.argmax(pred)]*100\n",
    "        race = classes[np.argmax(pred)]\n",
    "    except:\n",
    "        return \"None\"\n",
    "    return f'{name} is {race}....{predprob}%.....probs:{pred[0]} for {classes} respectively'"
   ]
  },
  {
   "cell_type": "code",
   "execution_count": 223,
   "metadata": {},
   "outputs": [
    {
     "name": "stderr",
     "output_type": "stream",
     "text": [
      "/Library/Frameworks/Python.framework/Versions/3.6/lib/python3.6/site-packages/ipykernel_launcher.py:14: DeprecationWarning: Call to deprecated `__getitem__` (Method will be removed in 4.0.0, use self.wv.__getitem__() instead).\n",
      "  \n"
     ]
    },
    {
     "data": {
      "text/plain": [
       "\"ricardo perez is hispanic....77.74978876113892%.....probs:[1.7140448e-02 7.7749789e-01 1.1923082e-04 2.0524250e-01] for ['black', 'hispanic', 'indian', 'white'] respectively\""
      ]
     },
     "execution_count": 223,
     "metadata": {},
     "output_type": "execute_result"
    }
   ],
   "source": [
    "predict_race('ricardo perez')"
   ]
  },
  {
   "cell_type": "code",
   "execution_count": 183,
   "metadata": {},
   "outputs": [],
   "source": [
    "y_pred = classifier.predict(X_test)"
   ]
  },
  {
   "cell_type": "code",
   "execution_count": 184,
   "metadata": {},
   "outputs": [],
   "source": [
    "classes = ['black','hispanic','indian','white']\n",
    "test_class = []\n",
    "pred_class = []\n",
    "for i in range(len(y_pred)):\n",
    "    test_class.append([classes[np.argmax(y_test[i])]])\n",
    "    pred_class.append([classes[np.argmax(y_pred[i])]])"
   ]
  },
  {
   "cell_type": "code",
   "execution_count": 186,
   "metadata": {},
   "outputs": [
    {
     "name": "stdout",
     "output_type": "stream",
     "text": [
      "[[7071   82   36 2538]\n",
      " [   0 9812    0    5]\n",
      " [   7    2 9698   21]\n",
      " [1792  893   55 6904]]\n",
      "              precision    recall  f1-score   support\n",
      "\n",
      "       black       0.80      0.73      0.76      9727\n",
      "    hispanic       0.91      1.00      0.95      9817\n",
      "      indian       0.99      1.00      0.99      9728\n",
      "       white       0.73      0.72      0.72      9644\n",
      "\n",
      "   micro avg       0.86      0.86      0.86     38916\n",
      "   macro avg       0.86      0.86      0.86     38916\n",
      "weighted avg       0.86      0.86      0.86     38916\n",
      "\n"
     ]
    }
   ],
   "source": [
    "from sklearn.metrics import confusion_matrix, classification_report\n",
    "cm = confusion_matrix(test_class, pred_class)\n",
    "print(cm)\n",
    "print(classification_report(test_class, pred_class,target_names=classes))"
   ]
  },
  {
   "cell_type": "code",
   "execution_count": null,
   "metadata": {},
   "outputs": [],
   "source": [
    "from keras.layers.embeddings import Embedding\n"
   ]
  },
  {
   "cell_type": "code",
   "execution_count": null,
   "metadata": {},
   "outputs": [],
   "source": []
  }
 ],
 "metadata": {
  "kernelspec": {
   "display_name": "Python 3",
   "language": "python",
   "name": "python3"
  },
  "language_info": {
   "codemirror_mode": {
    "name": "ipython",
    "version": 3
   },
   "file_extension": ".py",
   "mimetype": "text/x-python",
   "name": "python",
   "nbconvert_exporter": "python",
   "pygments_lexer": "ipython3",
   "version": "3.6.5"
  }
 },
 "nbformat": 4,
 "nbformat_minor": 2
}
