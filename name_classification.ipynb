{
 "cells": [
  {
   "cell_type": "code",
   "execution_count": 14,
   "metadata": {},
   "outputs": [
    {
     "name": "stderr",
     "output_type": "stream",
     "text": [
      "100%|██████████| 120719/120719 [00:02<00:00, 45515.73it/s]\n"
     ]
    }
   ],
   "source": [
    "import pandas as pd\n",
    "import gensim \n",
    "from gensim.models import Word2Vec \n",
    "from tqdm import tqdm\n",
    "import re\n",
    "import numpy as np\n",
    "  \n",
    "dataset = pd.read_csv(\"data/names_combined.csv\")\n",
    "\n",
    "dataset.dropna(inplace=True)\n",
    "dataset.replace('b','black',inplace=True)\n",
    "  \n",
    "data = [] \n",
    "corpus = []\n",
    "\n",
    "def features(name):\n",
    "    bigrams = []\n",
    "    trigrams = []\n",
    "    for i in range(len(name)-1):\n",
    "        bigrams.append(name[i:i+2])\n",
    "        if i < len(name) - 2:\n",
    "            trigrams.append(name[i:i+3])\n",
    "    trigrams.append(name[-3:])\n",
    "    fets = bigrams+trigrams\n",
    "    return fets\n",
    "\n",
    "for i in tqdm(range(len(dataset['name']))):\n",
    "    temp = []\n",
    "    review = re.sub('[^a-zA-Z]', ' ', dataset['name'].values[i])\n",
    "    review = re.sub('  ', ' ', review)\n",
    "    review = review.lower()\n",
    "    if review[0] == ' ':\n",
    "        review=review[1:]\n",
    "    temp = list(review) + features(review)\n",
    "    data.append(temp)\n",
    "    corpus.append(review)"
   ]
  },
  {
   "cell_type": "code",
   "execution_count": 15,
   "metadata": {},
   "outputs": [
    {
     "name": "stdout",
     "output_type": "stream",
     "text": [
      "model created\n",
      "model trained\n"
     ]
    }
   ],
   "source": [
    "# Create & train Char vec model\n",
    "model1 = gensim.models.Word2Vec(data, min_count = 1, size = 300, window = 10) ## 300,10\n",
    "print('model created')\n",
    "model1.train(data,total_examples=model1.corpus_count, epochs=15)\n",
    "print('model trained')"
   ]
  },
  {
   "cell_type": "code",
   "execution_count": 16,
   "metadata": {},
   "outputs": [
    {
     "name": "stderr",
     "output_type": "stream",
     "text": [
      "  0%|          | 0/120719 [00:00<?, ?it/s]/Library/Frameworks/Python.framework/Versions/3.6/lib/python3.6/site-packages/ipykernel_launcher.py:4: DeprecationWarning: Call to deprecated `__getitem__` (Method will be removed in 4.0.0, use self.wv.__getitem__() instead).\n",
      "  after removing the cwd from sys.path.\n",
      "100%|██████████| 120719/120719 [00:22<00:00, 5293.39it/s]\n"
     ]
    }
   ],
   "source": [
    "y = dataset.iloc[:, 2].values\n",
    "X = []\n",
    "for c in tqdm(corpus):\n",
    "\tvecs = model1[list(c) + features(c)]\n",
    "\tX.append(vecs.sum(axis=0))\n",
    "X = np.array(X)"
   ]
  },
  {
   "cell_type": "code",
   "execution_count": 17,
   "metadata": {},
   "outputs": [],
   "source": [
    "from imblearn.over_sampling import SMOTE, RandomOverSampler\n",
    "ros = RandomOverSampler(random_state=42)\n",
    "X, y = ros.fit_resample(X, y)"
   ]
  },
  {
   "cell_type": "code",
   "execution_count": 18,
   "metadata": {},
   "outputs": [],
   "source": [
    "from sklearn.preprocessing import OneHotEncoder\n",
    "enc = OneHotEncoder()\n",
    "y = enc.fit_transform(y.reshape(-1,1)).toarray()"
   ]
  },
  {
   "cell_type": "code",
   "execution_count": 19,
   "metadata": {},
   "outputs": [],
   "source": [
    "from sklearn.model_selection import train_test_split\n",
    "X_train, X_test, y_train, y_test = train_test_split(X, y, test_size = 0.20)#, random_state = 0)"
   ]
  },
  {
   "cell_type": "code",
   "execution_count": 20,
   "metadata": {},
   "outputs": [],
   "source": [
    "#Feature Scaling\n",
    "from sklearn.preprocessing import StandardScaler\n",
    "sc = StandardScaler()\n",
    "X_train = sc.fit_transform(X_train)\n",
    "X_test = sc.transform(X_test)"
   ]
  },
  {
   "cell_type": "code",
   "execution_count": 21,
   "metadata": {},
   "outputs": [
    {
     "name": "stderr",
     "output_type": "stream",
     "text": [
      "/Library/Frameworks/Python.framework/Versions/3.6/lib/python3.6/site-packages/ipykernel_launcher.py:10: UserWarning: Update your `Dense` call to the Keras 2 API: `Dense(input_dim=300, activation=\"relu\", units=256)`\n",
      "  # Remove the CWD from sys.path while we load stuff.\n",
      "/Library/Frameworks/Python.framework/Versions/3.6/lib/python3.6/site-packages/ipykernel_launcher.py:13: UserWarning: Update your `Dense` call to the Keras 2 API: `Dense(activation=\"relu\", units=256)`\n",
      "  del sys.path[0]\n",
      "/Library/Frameworks/Python.framework/Versions/3.6/lib/python3.6/site-packages/ipykernel_launcher.py:16: UserWarning: Update your `Dense` call to the Keras 2 API: `Dense(activation=\"relu\", units=128)`\n",
      "  app.launch_new_instance()\n",
      "/Library/Frameworks/Python.framework/Versions/3.6/lib/python3.6/site-packages/ipykernel_launcher.py:19: UserWarning: Update your `Dense` call to the Keras 2 API: `Dense(activation=\"relu\", units=128)`\n",
      "/Library/Frameworks/Python.framework/Versions/3.6/lib/python3.6/site-packages/ipykernel_launcher.py:22: UserWarning: Update your `Dense` call to the Keras 2 API: `Dense(activation=\"relu\", units=64)`\n",
      "/Library/Frameworks/Python.framework/Versions/3.6/lib/python3.6/site-packages/ipykernel_launcher.py:25: UserWarning: Update your `Dense` call to the Keras 2 API: `Dense(activation=\"relu\", units=32)`\n",
      "/Library/Frameworks/Python.framework/Versions/3.6/lib/python3.6/site-packages/ipykernel_launcher.py:28: UserWarning: Update your `Dense` call to the Keras 2 API: `Dense(activation=\"softmax\", units=4)`\n"
     ]
    },
    {
     "name": "stdout",
     "output_type": "stream",
     "text": [
      "Train on 155664 samples, validate on 38916 samples\n",
      "Epoch 1/40\n",
      "155664/155664 [==============================] - 15s 97us/step - loss: 0.5802 - acc: 0.7486 - val_loss: 0.4507 - val_acc: 0.8050\n",
      "Epoch 2/40\n",
      "155664/155664 [==============================] - 11s 68us/step - loss: 0.4620 - acc: 0.8020 - val_loss: 0.4057 - val_acc: 0.8262\n",
      "Epoch 3/40\n",
      "155664/155664 [==============================] - 11s 72us/step - loss: 0.4253 - acc: 0.8180 - val_loss: 0.3845 - val_acc: 0.8365\n",
      "Epoch 4/40\n",
      "155664/155664 [==============================] - 11s 68us/step - loss: 0.4028 - acc: 0.8276 - val_loss: 0.3775 - val_acc: 0.8395\n",
      "Epoch 5/40\n",
      "155664/155664 [==============================] - 11s 68us/step - loss: 0.3912 - acc: 0.8339 - val_loss: 0.3648 - val_acc: 0.8453\n",
      "Epoch 6/40\n",
      "155664/155664 [==============================] - 10s 67us/step - loss: 0.3725 - acc: 0.8403 - val_loss: 0.3529 - val_acc: 0.8501\n",
      "Epoch 7/40\n",
      "155664/155664 [==============================] - 10s 66us/step - loss: 0.3620 - acc: 0.8455 - val_loss: 0.3504 - val_acc: 0.8515\n",
      "Epoch 8/40\n",
      "155664/155664 [==============================] - 12s 76us/step - loss: 0.3518 - acc: 0.8507 - val_loss: 0.3502 - val_acc: 0.8508\n",
      "Epoch 9/40\n",
      "155664/155664 [==============================] - 11s 69us/step - loss: 0.3444 - acc: 0.8537 - val_loss: 0.3413 - val_acc: 0.8543\n",
      "Epoch 10/40\n",
      "155664/155664 [==============================] - 12s 79us/step - loss: 0.3374 - acc: 0.8558 - val_loss: 0.3472 - val_acc: 0.8515\n",
      "Epoch 11/40\n",
      "155664/155664 [==============================] - 11s 71us/step - loss: 0.3346 - acc: 0.8585 - val_loss: 0.3342 - val_acc: 0.8578\n",
      "Epoch 12/40\n",
      "155664/155664 [==============================] - 16s 100us/step - loss: 0.3230 - acc: 0.8625 - val_loss: 0.3299 - val_acc: 0.8599\n",
      "Epoch 13/40\n",
      "155664/155664 [==============================] - 17s 109us/step - loss: 0.3166 - acc: 0.8655 - val_loss: 0.3231 - val_acc: 0.8617\n",
      "Epoch 14/40\n",
      "155664/155664 [==============================] - 20s 131us/step - loss: 0.3120 - acc: 0.8689 - val_loss: 0.3216 - val_acc: 0.8632\n",
      "Epoch 15/40\n",
      "155664/155664 [==============================] - 21s 132us/step - loss: 0.3083 - acc: 0.8691 - val_loss: 0.3257 - val_acc: 0.8631\n",
      "Epoch 16/40\n",
      "155664/155664 [==============================] - 19s 124us/step - loss: 0.2995 - acc: 0.8736 - val_loss: 0.3142 - val_acc: 0.8686\n",
      "Epoch 17/40\n",
      "155664/155664 [==============================] - 20s 125us/step - loss: 0.2917 - acc: 0.8759 - val_loss: 0.3150 - val_acc: 0.8659\n",
      "Epoch 18/40\n",
      "155664/155664 [==============================] - 19s 121us/step - loss: 0.2922 - acc: 0.8761 - val_loss: 0.3210 - val_acc: 0.8652\n",
      "Epoch 19/40\n",
      "155664/155664 [==============================] - 19s 121us/step - loss: 0.2818 - acc: 0.8808 - val_loss: 0.3171 - val_acc: 0.8684\n",
      "Epoch 20/40\n",
      "155664/155664 [==============================] - 19s 119us/step - loss: 0.2788 - acc: 0.8819 - val_loss: 0.3184 - val_acc: 0.8676\n",
      "Epoch 21/40\n",
      "155664/155664 [==============================] - 18s 117us/step - loss: 0.2738 - acc: 0.8850 - val_loss: 0.3131 - val_acc: 0.8695\n",
      "Epoch 22/40\n",
      "155664/155664 [==============================] - 18s 117us/step - loss: 0.2686 - acc: 0.8868 - val_loss: 0.3109 - val_acc: 0.8696\n",
      "Epoch 23/40\n",
      "155664/155664 [==============================] - 21s 132us/step - loss: 0.2663 - acc: 0.8880 - val_loss: 0.3080 - val_acc: 0.8710\n",
      "Epoch 24/40\n",
      "155664/155664 [==============================] - 22s 140us/step - loss: 0.2621 - acc: 0.8895 - val_loss: 0.3141 - val_acc: 0.8694\n",
      "Epoch 25/40\n",
      "155664/155664 [==============================] - 20s 128us/step - loss: 0.2641 - acc: 0.8885 - val_loss: 0.3110 - val_acc: 0.8708\n",
      "Epoch 26/40\n",
      "155664/155664 [==============================] - 23s 147us/step - loss: 0.2582 - acc: 0.8913 - val_loss: 0.3090 - val_acc: 0.8692\n",
      "Epoch 27/40\n",
      "155664/155664 [==============================] - 15s 99us/step - loss: 0.2531 - acc: 0.8936 - val_loss: 0.3116 - val_acc: 0.8700\n",
      "Epoch 28/40\n",
      "155664/155664 [==============================] - 13s 84us/step - loss: 0.2471 - acc: 0.8964 - val_loss: 0.3133 - val_acc: 0.8714\n",
      "Epoch 29/40\n",
      "155664/155664 [==============================] - 14s 90us/step - loss: 0.2452 - acc: 0.8966 - val_loss: 0.3183 - val_acc: 0.8706\n",
      "Epoch 30/40\n",
      "155664/155664 [==============================] - 11s 70us/step - loss: 0.2460 - acc: 0.8971 - val_loss: 0.3217 - val_acc: 0.8698\n",
      "Epoch 31/40\n",
      "155664/155664 [==============================] - 10s 67us/step - loss: 0.2446 - acc: 0.8979 - val_loss: 0.3066 - val_acc: 0.8747\n",
      "Epoch 32/40\n",
      "155664/155664 [==============================] - 11s 70us/step - loss: 0.2355 - acc: 0.9022 - val_loss: 0.3114 - val_acc: 0.8703\n",
      "Epoch 33/40\n",
      "155664/155664 [==============================] - 11s 72us/step - loss: 0.2328 - acc: 0.9030 - val_loss: 0.3145 - val_acc: 0.8732\n",
      "Epoch 34/40\n",
      "155664/155664 [==============================] - 11s 71us/step - loss: 0.2308 - acc: 0.9036 - val_loss: 0.3105 - val_acc: 0.8716\n",
      "Epoch 35/40\n",
      "155664/155664 [==============================] - 11s 72us/step - loss: 0.2290 - acc: 0.9046 - val_loss: 0.3094 - val_acc: 0.8738\n",
      "Epoch 36/40\n",
      "155664/155664 [==============================] - 12s 74us/step - loss: 0.2243 - acc: 0.9064 - val_loss: 0.3076 - val_acc: 0.8743\n",
      "Epoch 37/40\n",
      "155664/155664 [==============================] - 11s 70us/step - loss: 0.2223 - acc: 0.9073 - val_loss: 0.3123 - val_acc: 0.8732\n",
      "Epoch 38/40\n",
      "155664/155664 [==============================] - 12s 74us/step - loss: 0.2200 - acc: 0.9084 - val_loss: 0.3116 - val_acc: 0.8716\n",
      "Epoch 39/40\n",
      "155664/155664 [==============================] - 10s 67us/step - loss: 0.2202 - acc: 0.9096 - val_loss: 0.3185 - val_acc: 0.8748\n",
      "Epoch 40/40\n",
      "155664/155664 [==============================] - 11s 69us/step - loss: 0.2161 - acc: 0.9105 - val_loss: 0.3067 - val_acc: 0.8779\n"
     ]
    }
   ],
   "source": [
    "import keras\n",
    "from keras.models import Sequential\n",
    "from keras.layers import Dense, Dropout, GRU, LSTM, Flatten\n",
    "from keras.layers.normalization import BatchNormalization\n",
    "from keras import optimizers\n",
    "\n",
    "classifier = Sequential()\n",
    "\n",
    "######## race classification 87% test accuracy\n",
    "classifier.add(Dense(input_dim=300, output_dim=256, activation='relu'))\n",
    "classifier.add(BatchNormalization())\n",
    "classifier.add(Dropout(0.2))  # Dropout overfitting\n",
    "classifier.add(Dense(output_dim=256, activation='relu'))\n",
    "classifier.add(BatchNormalization())\n",
    "classifier.add(Dropout(0.1))\n",
    "classifier.add(Dense(output_dim=128, activation='relu'))\n",
    "classifier.add(BatchNormalization())\n",
    "classifier.add(Dropout(0.1))\n",
    "classifier.add(Dense(output_dim=128, activation='relu'))\n",
    "classifier.add(BatchNormalization())\n",
    "classifier.add(Dropout(0.1))\n",
    "classifier.add(Dense(output_dim=64, activation='relu'))\n",
    "classifier.add(BatchNormalization())\n",
    "classifier.add(Dropout(0.1))\n",
    "classifier.add(Dense(output_dim=32, activation='relu'))\n",
    "classifier.add(BatchNormalization())\n",
    "classifier.add(Dropout(0.1))\n",
    "classifier.add(Dense(output_dim=4, activation='softmax'))\n",
    "\n",
    "##### gender classification model 98% test acc\n",
    "# classifier1.add(Dense(input_dim=300, output_dim=256, activation='relu'))\n",
    "# classifier1.add(BatchNormalization())\n",
    "# classifier1.add(Dropout(0.1))  # Dropout overfitting\n",
    "# classifier1.add(Dense(output_dim=128, activation='relu'))\n",
    "# classifier1.add(BatchNormalization())\n",
    "# classifier1.add(Dropout(0.1))\n",
    "# classifier1.add(Dense(output_dim=128, activation='relu'))\n",
    "# classifier1.add(BatchNormalization())\n",
    "# classifier1.add(Dropout(0.1))\n",
    "# classifier1.add(Dense(output_dim=64, activation='relu'))\n",
    "# classifier1.add(BatchNormalization())\n",
    "# classifier1.add(Dropout(0.1))\n",
    "# classifier1.add(Dense(output_dim=64, activation='relu'))\n",
    "# classifier1.add(BatchNormalization())\n",
    "# classifier1.add(Dropout(0.1))\n",
    "# classifier1.add(Dense(output_dim=32, activation='relu'))\n",
    "# classifier1.add(BatchNormalization())\n",
    "# classifier1.add(Dropout(0.1))\n",
    "# classifier1.add(Dense(output_dim=2, activation='softmax'))\n",
    "\n",
    "\n",
    "classifier.compile(loss=\"categorical_crossentropy\", optimizer=\"adam\", metrics = ['accuracy'])\n",
    "history = classifier.fit(X_train, y_train, validation_data=(X_test, y_test), epochs=40, batch_size=256)\n",
    "\n",
    "# classifier1.compile(loss=\"categorical_crossentropy\", optimizer=\"adam\", metrics = ['accuracy'])\n",
    "# history1 = classifier1.fit(X_train, y_train, validation_data=(X_test, y_test), epochs=60, batch_size=256)"
   ]
  },
  {
   "cell_type": "code",
   "execution_count": 22,
   "metadata": {},
   "outputs": [],
   "source": [
    "def predict_gen(name):\n",
    "    name = name.lower()\n",
    "    classes = ['female','male']\n",
    "    namevec = model1[list(name)+features(name)].sum(axis=0).flatten()\n",
    "    pred = classifier1.predict(namevec.reshape(1,300))\n",
    "    predprob = pred[0][np.argmax(pred)]*100\n",
    "    gender = classes[np.argmax(pred)]\n",
    "    return f'{name} is probably a {gender}.... chances:{predprob}%'\n",
    "\n",
    "def predict_race(name):\n",
    "    try:\n",
    "        name = name.lower()\n",
    "        classes = ['black','hispanic','indian','white']\n",
    "        namevec = model1[list(name)+features(name)].sum(axis=0).flatten()\n",
    "        pred = classifier.predict(sc.transform(namevec.reshape(1,300)))\n",
    "        predprob = pred[0][np.argmax(pred)]*100\n",
    "        race = classes[np.argmax(pred)]\n",
    "    except:\n",
    "        return \"None\"\n",
    "    return f'{name} is {race}....{predprob}%.....probs:{pred[0]} for {classes} respectively'"
   ]
  },
  {
   "cell_type": "code",
   "execution_count": 37,
   "metadata": {},
   "outputs": [
    {
     "name": "stderr",
     "output_type": "stream",
     "text": [
      "/Library/Frameworks/Python.framework/Versions/3.6/lib/python3.6/site-packages/ipykernel_launcher.py:14: DeprecationWarning: Call to deprecated `__getitem__` (Method will be removed in 4.0.0, use self.wv.__getitem__() instead).\n",
      "  \n"
     ]
    },
    {
     "data": {
      "text/plain": [
       "\"juliya is indian....99.9987006187439%.....probs:[1.3417108e-06 2.5491079e-06 9.9998701e-01 9.1079673e-06] for ['black', 'hispanic', 'indian', 'white'] respectively\""
      ]
     },
     "execution_count": 37,
     "metadata": {},
     "output_type": "execute_result"
    }
   ],
   "source": [
    "predict_race('juliya')"
   ]
  },
  {
   "cell_type": "code",
   "execution_count": 24,
   "metadata": {},
   "outputs": [],
   "source": [
    "y_pred = classifier.predict(X_test)"
   ]
  },
  {
   "cell_type": "code",
   "execution_count": 25,
   "metadata": {},
   "outputs": [],
   "source": [
    "classes = ['black','hispanic','indian','white']\n",
    "test_class = []\n",
    "pred_class = []\n",
    "for i in range(len(y_pred)):\n",
    "    test_class.append([classes[np.argmax(y_test[i])]])\n",
    "    pred_class.append([classes[np.argmax(y_pred[i])]])"
   ]
  },
  {
   "cell_type": "code",
   "execution_count": 26,
   "metadata": {},
   "outputs": [
    {
     "name": "stdout",
     "output_type": "stream",
     "text": [
      "[[7783   82   16 1880]\n",
      " [   0 9780    0    6]\n",
      " [  10    2 9753   18]\n",
      " [1856  844   36 6850]]\n",
      "              precision    recall  f1-score   support\n",
      "\n",
      "       black       0.81      0.80      0.80      9761\n",
      "    hispanic       0.91      1.00      0.95      9786\n",
      "      indian       0.99      1.00      1.00      9783\n",
      "       white       0.78      0.71      0.75      9586\n",
      "\n",
      "   micro avg       0.88      0.88      0.88     38916\n",
      "   macro avg       0.87      0.88      0.87     38916\n",
      "weighted avg       0.87      0.88      0.88     38916\n",
      "\n"
     ]
    }
   ],
   "source": [
    "from sklearn.metrics import confusion_matrix, classification_report\n",
    "cm = confusion_matrix(test_class, pred_class)\n",
    "print(cm)\n",
    "print(classification_report(test_class, pred_class,target_names=classes))"
   ]
  },
  {
   "cell_type": "code",
   "execution_count": null,
   "metadata": {},
   "outputs": [],
   "source": [
    "# import keras\n",
    "# from keras.models import Sequential\n",
    "# from keras.layers import Dense, Dropout, LSTM, Flatten\n",
    "# from keras.layers.normalization import BatchNormalization\n",
    "\n",
    "# model = Sequential()\n",
    "# model.add(LSTM(300, return_sequences=True, input_shape=(30,28)))\n",
    "# model.add(Dropout(0.2))\n",
    "# model.add(LSTM(300, return_sequences=False))\n",
    "# model.add(Dropout(0.1))\n",
    "# model.add(Dense(output_dim=32, activation='relu'))\n",
    "# model.add(BatchNormalization())\n",
    "# model.add(Dropout(0.1))\n",
    "# model.add(Dense(2, activation='softmax'))\n",
    "# model.compile(loss='categorical_crossentropy', optimizer='adam',metrics=['accuracy'])\n",
    "\n",
    "# history = model.fit(X_train, y_train, validation_data=(X_test, y_test), epochs=20, batch_size=2048)"
   ]
  },
  {
   "cell_type": "code",
   "execution_count": null,
   "metadata": {},
   "outputs": [],
   "source": []
  }
 ],
 "metadata": {
  "kernelspec": {
   "display_name": "Python 3",
   "language": "python",
   "name": "python3"
  },
  "language_info": {
   "codemirror_mode": {
    "name": "ipython",
    "version": 3
   },
   "file_extension": ".py",
   "mimetype": "text/x-python",
   "name": "python",
   "nbconvert_exporter": "python",
   "pygments_lexer": "ipython3",
   "version": "3.6.5"
  }
 },
 "nbformat": 4,
 "nbformat_minor": 2
}
