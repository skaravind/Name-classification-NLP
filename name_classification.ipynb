{
 "cells": [
  {
   "cell_type": "code",
   "execution_count": 3,
   "metadata": {},
   "outputs": [
    {
     "name": "stderr",
     "output_type": "stream",
     "text": [
      "100%|██████████| 120719/120719 [00:03<00:00, 35976.83it/s]\n"
     ]
    }
   ],
   "source": [
    "import pandas as pd\n",
    "import gensim \n",
    "from gensim.models import Word2Vec \n",
    "from tqdm import tqdm\n",
    "import re\n",
    "import numpy as np\n",
    "  \n",
    "dataset = pd.read_csv(\"data/names_combined.csv\")\n",
    "\n",
    "dataset.dropna(inplace=True)\n",
    "dataset.replace('b','black',inplace=True)\n",
    "  \n",
    "data = [] \n",
    "corpus = []\n",
    "\n",
    "def features(name):\n",
    "\tname = re.sub(' ','',name)\n",
    "\tbigrams = []\n",
    "\ttrigrams = []\n",
    "\tfor i in range(len(name)-1):\n",
    "\t\tbigrams.append(name[i:i+2])\n",
    "\t\tif i < len(name) - 2:\n",
    "\t\t\ttrigrams.append(name[i:i+3])\n",
    "\ttrigrams.append(name[-3:])\n",
    "\treturn bigrams+trigrams\n",
    "\n",
    "for i in tqdm(range(len(dataset['name']))):\n",
    "\ttemp = []\n",
    "\treview = re.sub('[^a-zA-Z]', ' ', dataset['name'].values[i])\n",
    "\treview = review.lower()\n",
    "\ttemp = list(review) + features(review)\n",
    "\tdata.append(temp)\n",
    "\tcorpus.append(review)"
   ]
  },
  {
   "cell_type": "code",
   "execution_count": 4,
   "metadata": {},
   "outputs": [
    {
     "name": "stdout",
     "output_type": "stream",
     "text": [
      "model created\n",
      "model trained\n"
     ]
    }
   ],
   "source": [
    "# Create & train Char vec model\n",
    "model1 = gensim.models.Word2Vec(data, min_count = 1, size = 350, window = 30) ## 300,10\n",
    "print('model created')\n",
    "model1.train(data,total_examples=model1.corpus_count, epochs=15)\n",
    "print('model trained')"
   ]
  },
  {
   "cell_type": "code",
   "execution_count": 41,
   "metadata": {},
   "outputs": [
    {
     "name": "stderr",
     "output_type": "stream",
     "text": [
      "  0%|          | 0/120719 [00:00<?, ?it/s]/Library/Frameworks/Python.framework/Versions/3.6/lib/python3.6/site-packages/ipykernel_launcher.py:4: DeprecationWarning: Call to deprecated `__getitem__` (Method will be removed in 4.0.0, use self.wv.__getitem__() instead).\n",
      "  after removing the cwd from sys.path.\n",
      "100%|██████████| 120719/120719 [00:22<00:00, 5333.41it/s]\n"
     ]
    }
   ],
   "source": [
    "y = dataset.iloc[:, 2].values\n",
    "X = []\n",
    "for c in tqdm(corpus):\n",
    "\tvecs = model1[list(c) + features(c)]\n",
    "\tX.append(vecs.sum(axis=0))\n",
    "X = np.array(X)"
   ]
  },
  {
   "cell_type": "code",
   "execution_count": 6,
   "metadata": {},
   "outputs": [],
   "source": [
    "from imblearn.over_sampling import SMOTE, RandomOverSampler\n",
    "ros = RandomOverSampler(random_state=42)\n",
    "X, y = ros.fit_resample(X, y)"
   ]
  },
  {
   "cell_type": "code",
   "execution_count": 42,
   "metadata": {},
   "outputs": [],
   "source": [
    "from sklearn.preprocessing import OneHotEncoder\n",
    "enc = OneHotEncoder()\n",
    "y = enc.fit_transform(y.reshape(-1,1)).toarray()"
   ]
  },
  {
   "cell_type": "code",
   "execution_count": 43,
   "metadata": {},
   "outputs": [],
   "source": [
    "from sklearn.model_selection import train_test_split\n",
    "X_train, X_test, y_train, y_test = train_test_split(X, y, test_size = 0.20)#, random_state = 0)"
   ]
  },
  {
   "cell_type": "code",
   "execution_count": 9,
   "metadata": {
    "scrolled": true
   },
   "outputs": [
    {
     "name": "stderr",
     "output_type": "stream",
     "text": [
      "/Library/Frameworks/Python.framework/Versions/3.6/lib/python3.6/site-packages/sklearn/linear_model/logistic.py:460: FutureWarning: Default multi_class will be changed to 'auto' in 0.22. Specify the multi_class option to silence this warning.\n",
      "  \"this warning.\", FutureWarning)\n",
      "[Parallel(n_jobs=3)]: Using backend ThreadingBackend with 3 concurrent workers.\n"
     ]
    },
    {
     "name": "stdout",
     "output_type": "stream",
     "text": [
      "max_iter reached after 48 seconds\n",
      "max_iter reached after 48 seconds\n",
      "max_iter reached after 48 seconds\n"
     ]
    },
    {
     "name": "stderr",
     "output_type": "stream",
     "text": [
      "/Library/Frameworks/Python.framework/Versions/3.6/lib/python3.6/site-packages/sklearn/linear_model/sag.py:334: ConvergenceWarning: The max_iter was reached which means the coef_ did not converge\n",
      "  \"the coef_ did not converge\", ConvergenceWarning)\n",
      "[Parallel(n_jobs=3)]: Done   2 out of   4 | elapsed:   48.1s remaining:   48.1s\n"
     ]
    },
    {
     "name": "stdout",
     "output_type": "stream",
     "text": [
      "max_iter reached after 22 seconds\n"
     ]
    },
    {
     "name": "stderr",
     "output_type": "stream",
     "text": [
      "[Parallel(n_jobs=3)]: Done   4 out of   4 | elapsed:  1.2min finished\n"
     ]
    },
    {
     "name": "stdout",
     "output_type": "stream",
     "text": [
      "[[7058  420   98 2241]\n",
      " [ 285 8875   53  567]\n",
      " [ 102   60 9521   59]\n",
      " [2957 1613  124 4883]]\n",
      "              precision    recall  f1-score   support\n",
      "\n",
      "       black       0.68      0.72      0.70      9817\n",
      "    hispanic       0.81      0.91      0.86      9780\n",
      "      indian       0.97      0.98      0.97      9742\n",
      "       white       0.63      0.51      0.56      9577\n",
      "\n",
      "   micro avg       0.78      0.78      0.78     38916\n",
      "   macro avg       0.77      0.78      0.77     38916\n",
      "weighted avg       0.77      0.78      0.77     38916\n",
      "\n"
     ]
    }
   ],
   "source": [
    "# from sklearn.linear_model import LogisticRegression\n",
    "# classifier = LogisticRegression(max_iter=40,random_state = 0, solver='sag',verbose=2,n_jobs=3)\n",
    "# classifier.fit(X_train, y_train)\n",
    "# y_pred = classifier.predict(X_test)\n",
    "\n",
    "# # Making the Confusion Matrix\n",
    "# from sklearn.metrics import confusion_matrix, classification_report\n",
    "# cm = confusion_matrix(y_test, y_pred)\n",
    "# print(cm)\n",
    "# print(classification_report(y_test, y_pred,target_names=classifier.classes_))"
   ]
  },
  {
   "cell_type": "code",
   "execution_count": 44,
   "metadata": {},
   "outputs": [
    {
     "name": "stderr",
     "output_type": "stream",
     "text": [
      "/Library/Frameworks/Python.framework/Versions/3.6/lib/python3.6/site-packages/ipykernel_launcher.py:10: UserWarning: Update your `Dense` call to the Keras 2 API: `Dense(input_dim=350, activation=\"relu\", units=256)`\n",
      "  # Remove the CWD from sys.path while we load stuff.\n",
      "/Library/Frameworks/Python.framework/Versions/3.6/lib/python3.6/site-packages/ipykernel_launcher.py:13: UserWarning: Update your `Dense` call to the Keras 2 API: `Dense(activation=\"relu\", units=256)`\n",
      "  del sys.path[0]\n",
      "/Library/Frameworks/Python.framework/Versions/3.6/lib/python3.6/site-packages/ipykernel_launcher.py:16: UserWarning: Update your `Dense` call to the Keras 2 API: `Dense(activation=\"relu\", units=128)`\n",
      "  app.launch_new_instance()\n",
      "/Library/Frameworks/Python.framework/Versions/3.6/lib/python3.6/site-packages/ipykernel_launcher.py:19: UserWarning: Update your `Dense` call to the Keras 2 API: `Dense(activation=\"relu\", units=128)`\n",
      "/Library/Frameworks/Python.framework/Versions/3.6/lib/python3.6/site-packages/ipykernel_launcher.py:22: UserWarning: Update your `Dense` call to the Keras 2 API: `Dense(activation=\"relu\", units=64)`\n",
      "/Library/Frameworks/Python.framework/Versions/3.6/lib/python3.6/site-packages/ipykernel_launcher.py:25: UserWarning: Update your `Dense` call to the Keras 2 API: `Dense(activation=\"relu\", units=64)`\n",
      "/Library/Frameworks/Python.framework/Versions/3.6/lib/python3.6/site-packages/ipykernel_launcher.py:28: UserWarning: Update your `Dense` call to the Keras 2 API: `Dense(activation=\"relu\", units=32)`\n",
      "/Library/Frameworks/Python.framework/Versions/3.6/lib/python3.6/site-packages/ipykernel_launcher.py:31: UserWarning: Update your `Dense` call to the Keras 2 API: `Dense(activation=\"softmax\", units=4)`\n"
     ]
    },
    {
     "name": "stdout",
     "output_type": "stream",
     "text": [
      "Train on 96575 samples, validate on 24144 samples\n",
      "Epoch 1/10\n",
      "96575/96575 [==============================] - 11s 116us/step - loss: 0.6394 - acc: 0.6932 - val_loss: 0.5302 - val_acc: 0.7457\n",
      "Epoch 2/10\n",
      "96575/96575 [==============================] - 8s 87us/step - loss: 0.4973 - acc: 0.7587 - val_loss: 0.4979 - val_acc: 0.7551\n",
      "Epoch 3/10\n",
      "96575/96575 [==============================] - 7s 76us/step - loss: 0.4726 - acc: 0.7708 - val_loss: 0.4875 - val_acc: 0.7573\n",
      "Epoch 4/10\n",
      "96575/96575 [==============================] - 7s 72us/step - loss: 0.4560 - acc: 0.7799 - val_loss: 0.4636 - val_acc: 0.7769\n",
      "Epoch 5/10\n",
      "96575/96575 [==============================] - 7s 73us/step - loss: 0.4436 - acc: 0.7879 - val_loss: 0.4634 - val_acc: 0.7749\n",
      "Epoch 6/10\n",
      "96575/96575 [==============================] - 7s 76us/step - loss: 0.4349 - acc: 0.7922 - val_loss: 0.4615 - val_acc: 0.7787\n",
      "Epoch 7/10\n",
      "96575/96575 [==============================] - 7s 74us/step - loss: 0.4235 - acc: 0.7991 - val_loss: 0.4695 - val_acc: 0.7776\n",
      "Epoch 8/10\n",
      "96575/96575 [==============================] - 7s 74us/step - loss: 0.4178 - acc: 0.8028 - val_loss: 0.4590 - val_acc: 0.7832\n",
      "Epoch 9/10\n",
      "96575/96575 [==============================] - 7s 77us/step - loss: 0.4081 - acc: 0.8073 - val_loss: 0.4673 - val_acc: 0.7792\n",
      "Epoch 10/10\n",
      "96575/96575 [==============================] - 8s 81us/step - loss: 0.3985 - acc: 0.8136 - val_loss: 0.4558 - val_acc: 0.7802\n"
     ]
    }
   ],
   "source": [
    "import keras\n",
    "from keras.models import Sequential\n",
    "from keras.layers import Dense, Dropout, GRU, LSTM, Flatten\n",
    "from keras.layers.normalization import BatchNormalization\n",
    "from keras import optimizers\n",
    "\n",
    "classifier = Sequential()\n",
    "\n",
    "######## race classification 87% test accuracy\n",
    "classifier.add(Dense(input_dim=350, output_dim=256, activation='relu'))\n",
    "classifier.add(BatchNormalization())\n",
    "#classifier.add(Dropout(0.2))  # Dropout overfitting\n",
    "classifier.add(Dense(output_dim=256, activation='relu'))\n",
    "classifier.add(BatchNormalization())\n",
    "classifier.add(Dropout(0.1))\n",
    "classifier.add(Dense(output_dim=128, activation='relu'))\n",
    "classifier.add(BatchNormalization())\n",
    "classifier.add(Dropout(0.1))\n",
    "classifier.add(Dense(output_dim=128, activation='relu'))\n",
    "classifier.add(BatchNormalization())\n",
    "classifier.add(Dropout(0.1))\n",
    "classifier.add(Dense(output_dim=64, activation='relu'))\n",
    "classifier.add(BatchNormalization())\n",
    "classifier.add(Dropout(0.1))\n",
    "classifier.add(Dense(output_dim=64, activation='relu'))\n",
    "classifier.add(BatchNormalization())\n",
    "#classifier.add(Dropout(0.1))\n",
    "classifier.add(Dense(output_dim=32, activation='relu'))\n",
    "classifier.add(BatchNormalization())\n",
    "#classifier.add(Dropout(0.1))\n",
    "classifier.add(Dense(output_dim=4, activation='softmax'))\n",
    "\n",
    "##### gender classification model 98% test acc\n",
    "# classifier1.add(Dense(input_dim=300, output_dim=256, activation='relu'))\n",
    "# classifier1.add(BatchNormalization())\n",
    "# classifier1.add(Dropout(0.1))  # Dropout overfitting\n",
    "# classifier1.add(Dense(output_dim=128, activation='relu'))\n",
    "# classifier1.add(BatchNormalization())\n",
    "# classifier1.add(Dropout(0.1))\n",
    "# classifier1.add(Dense(output_dim=128, activation='relu'))\n",
    "# classifier1.add(BatchNormalization())\n",
    "# classifier1.add(Dropout(0.1))\n",
    "# classifier1.add(Dense(output_dim=64, activation='relu'))\n",
    "# classifier1.add(BatchNormalization())\n",
    "# classifier1.add(Dropout(0.1))\n",
    "# classifier1.add(Dense(output_dim=64, activation='relu'))\n",
    "# classifier1.add(BatchNormalization())\n",
    "# classifier1.add(Dropout(0.1))\n",
    "# classifier1.add(Dense(output_dim=32, activation='relu'))\n",
    "# classifier1.add(BatchNormalization())\n",
    "# classifier1.add(Dropout(0.1))\n",
    "# classifier1.add(Dense(output_dim=2, activation='softmax'))\n",
    "\n",
    "\n",
    "classifier.compile(loss=\"categorical_crossentropy\", optimizer=\"adam\", metrics = ['accuracy'])\n",
    "history = classifier.fit(X_train, y_train, validation_data=(X_test, y_test), epochs=10, batch_size=256)\n",
    "\n",
    "classifier1.compile(loss=\"categorical_crossentropy\", optimizer=\"adam\", metrics = ['accuracy'])\n",
    "history1 = classifier1.fit(X_train, y_train, validation_data=(X_test, y_test), epochs=10, batch_size=256)"
   ]
  },
  {
   "cell_type": "code",
   "execution_count": 45,
   "metadata": {},
   "outputs": [],
   "source": [
    "def predict_gen(name):\n",
    "    classes = ['female','male']\n",
    "    namevec = model1[list(name)+features(name)].sum(axis=0).flatten()\n",
    "    pred = classifier.predict(namevec.reshape(1,350))\n",
    "    predprob = pred[0][np.argmax(pred)]*100\n",
    "    gender = classes[np.argmax(pred)]\n",
    "    return f'{name} is probably a {gender}.... chances:{predprob}%'\n",
    "\n",
    "def predict_race(name):\n",
    "    classes = ['black','hispanic','indian','white']\n",
    "    namevec = model1[list(name)+features(name)].sum(axis=0).flatten()\n",
    "    pred = classifier.predict(namevec.reshape(1,350))\n",
    "    predprob = pred[0][np.argmax(pred)]*100\n",
    "    race = classes[np.argmax(pred)]\n",
    "    return pred\n",
    "    return f'{name} is probably {race}.... chances:{predprob}%'"
   ]
  },
  {
   "cell_type": "code",
   "execution_count": 56,
   "metadata": {},
   "outputs": [
    {
     "name": "stderr",
     "output_type": "stream",
     "text": [
      "/Library/Frameworks/Python.framework/Versions/3.6/lib/python3.6/site-packages/ipykernel_launcher.py:11: DeprecationWarning: Call to deprecated `__getitem__` (Method will be removed in 4.0.0, use self.wv.__getitem__() instead).\n",
      "  # This is added back by InteractiveShellApp.init_path()\n"
     ]
    },
    {
     "data": {
      "text/plain": [
       "array([[4.1473142e-10, 1.9257501e-05, 9.9998069e-01, 3.1888163e-09]],\n",
       "      dtype=float32)"
      ]
     },
     "execution_count": 56,
     "metadata": {},
     "output_type": "execute_result"
    }
   ],
   "source": [
    "predict_race('andres')"
   ]
  },
  {
   "cell_type": "code",
   "execution_count": null,
   "metadata": {},
   "outputs": [],
   "source": []
  }
 ],
 "metadata": {
  "kernelspec": {
   "display_name": "Python 3",
   "language": "python",
   "name": "python3"
  },
  "language_info": {
   "codemirror_mode": {
    "name": "ipython",
    "version": 3
   },
   "file_extension": ".py",
   "mimetype": "text/x-python",
   "name": "python",
   "nbconvert_exporter": "python",
   "pygments_lexer": "ipython3",
   "version": "3.6.5"
  }
 },
 "nbformat": 4,
 "nbformat_minor": 2
}
