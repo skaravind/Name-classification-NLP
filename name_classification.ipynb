{
 "cells": [
  {
   "cell_type": "code",
   "execution_count": 224,
   "metadata": {},
   "outputs": [
    {
     "name": "stderr",
     "output_type": "stream",
     "text": [
      "100%|██████████| 120719/120719 [00:03<00:00, 33471.98it/s]\n"
     ]
    }
   ],
   "source": [
    "import pandas as pd\n",
    "import gensim \n",
    "from gensim.models import Word2Vec \n",
    "from tqdm import tqdm\n",
    "import re\n",
    "import numpy as np\n",
    "  \n",
    "dataset = pd.read_csv(\"data/names_combined.csv\")\n",
    "\n",
    "dataset.dropna(inplace=True)\n",
    "dataset.replace('b','black',inplace=True)\n",
    "  \n",
    "data = [] \n",
    "corpus = []\n",
    "\n",
    "def features(name):\n",
    "    name = re.sub(' ','',name)\n",
    "    bigrams = []\n",
    "    trigrams = []\n",
    "    for i in range(len(name)-1):\n",
    "        bigrams.append(name[i:i+2])\n",
    "        if i < len(name) - 2:\n",
    "            trigrams.append(name[i:i+3])\n",
    "    trigrams.append(name[-3:])\n",
    "    fets = bigrams+trigrams\n",
    "    fets.append(name.split(' ')[0])\n",
    "    fets.append(name.split(' ')[-1])\n",
    "    return bigrams+trigrams\n",
    "\n",
    "for i in tqdm(range(len(dataset['name']))):\n",
    "    temp = []\n",
    "    review = re.sub('[^a-zA-Z]', ' ', dataset['name'].values[i])\n",
    "    review = re.sub('  ', ' ', review)\n",
    "    review = review.lower()\n",
    "    if review[0] == ' ':\n",
    "        review=review[1:]\n",
    "    temp = list(review) + features(review)\n",
    "    data.append(temp)\n",
    "    corpus.append(review)"
   ]
  },
  {
   "cell_type": "code",
   "execution_count": 225,
   "metadata": {},
   "outputs": [
    {
     "name": "stdout",
     "output_type": "stream",
     "text": [
      "model created\n",
      "model trained\n"
     ]
    }
   ],
   "source": [
    "# Create & train Char vec model\n",
    "model1 = gensim.models.Word2Vec(data, min_count = 1, size = 300, window = 10) ## 300,10\n",
    "print('model created')\n",
    "model1.train(data,total_examples=model1.corpus_count, epochs=15)\n",
    "print('model trained')"
   ]
  },
  {
   "cell_type": "code",
   "execution_count": 226,
   "metadata": {},
   "outputs": [
    {
     "name": "stderr",
     "output_type": "stream",
     "text": [
      "  0%|          | 0/120719 [00:00<?, ?it/s]/Library/Frameworks/Python.framework/Versions/3.6/lib/python3.6/site-packages/ipykernel_launcher.py:4: DeprecationWarning: Call to deprecated `__getitem__` (Method will be removed in 4.0.0, use self.wv.__getitem__() instead).\n",
      "  after removing the cwd from sys.path.\n",
      "100%|██████████| 120719/120719 [00:26<00:00, 4633.33it/s]\n"
     ]
    }
   ],
   "source": [
    "y = dataset.iloc[:, 2].values\n",
    "X = []\n",
    "for c in tqdm(corpus):\n",
    "\tvecs = model1[list(c) + features(c)]\n",
    "\tX.append(vecs.sum(axis=0))\n",
    "X = np.array(X)"
   ]
  },
  {
   "cell_type": "code",
   "execution_count": 227,
   "metadata": {},
   "outputs": [],
   "source": [
    "from imblearn.over_sampling import SMOTE, RandomOverSampler\n",
    "ros = RandomOverSampler(random_state=42)\n",
    "X, y = ros.fit_resample(X, y)"
   ]
  },
  {
   "cell_type": "code",
   "execution_count": 228,
   "metadata": {},
   "outputs": [],
   "source": [
    "from sklearn.preprocessing import OneHotEncoder\n",
    "enc = OneHotEncoder()\n",
    "y = enc.fit_transform(y.reshape(-1,1)).toarray()"
   ]
  },
  {
   "cell_type": "code",
   "execution_count": 229,
   "metadata": {},
   "outputs": [],
   "source": [
    "from sklearn.model_selection import train_test_split\n",
    "X_train, X_test, y_train, y_test = train_test_split(X, y, test_size = 0.20)#, random_state = 0)"
   ]
  },
  {
   "cell_type": "code",
   "execution_count": 230,
   "metadata": {},
   "outputs": [],
   "source": [
    "#Feature Scaling\n",
    "from sklearn.preprocessing import StandardScaler\n",
    "sc = StandardScaler()\n",
    "X_train = sc.fit_transform(X_train)\n",
    "X_test = sc.transform(X_test)"
   ]
  },
  {
   "cell_type": "code",
   "execution_count": 231,
   "metadata": {},
   "outputs": [
    {
     "name": "stderr",
     "output_type": "stream",
     "text": [
      "/Library/Frameworks/Python.framework/Versions/3.6/lib/python3.6/site-packages/ipykernel_launcher.py:10: UserWarning: Update your `Dense` call to the Keras 2 API: `Dense(input_dim=300, activation=\"relu\", units=256)`\n",
      "  # Remove the CWD from sys.path while we load stuff.\n",
      "/Library/Frameworks/Python.framework/Versions/3.6/lib/python3.6/site-packages/ipykernel_launcher.py:13: UserWarning: Update your `Dense` call to the Keras 2 API: `Dense(activation=\"relu\", units=256)`\n",
      "  del sys.path[0]\n",
      "/Library/Frameworks/Python.framework/Versions/3.6/lib/python3.6/site-packages/ipykernel_launcher.py:16: UserWarning: Update your `Dense` call to the Keras 2 API: `Dense(activation=\"relu\", units=128)`\n",
      "  app.launch_new_instance()\n",
      "/Library/Frameworks/Python.framework/Versions/3.6/lib/python3.6/site-packages/ipykernel_launcher.py:19: UserWarning: Update your `Dense` call to the Keras 2 API: `Dense(activation=\"relu\", units=128)`\n",
      "/Library/Frameworks/Python.framework/Versions/3.6/lib/python3.6/site-packages/ipykernel_launcher.py:22: UserWarning: Update your `Dense` call to the Keras 2 API: `Dense(activation=\"relu\", units=64)`\n",
      "/Library/Frameworks/Python.framework/Versions/3.6/lib/python3.6/site-packages/ipykernel_launcher.py:25: UserWarning: Update your `Dense` call to the Keras 2 API: `Dense(activation=\"relu\", units=32)`\n",
      "/Library/Frameworks/Python.framework/Versions/3.6/lib/python3.6/site-packages/ipykernel_launcher.py:28: UserWarning: Update your `Dense` call to the Keras 2 API: `Dense(activation=\"softmax\", units=4)`\n"
     ]
    },
    {
     "name": "stdout",
     "output_type": "stream",
     "text": [
      "Train on 155664 samples, validate on 38916 samples\n",
      "Epoch 1/40\n",
      "155664/155664 [==============================] - 20s 131us/step - loss: 0.6149 - acc: 0.7274 - val_loss: 0.4913 - val_acc: 0.7860\n",
      "Epoch 2/40\n",
      "155664/155664 [==============================] - 12s 78us/step - loss: 0.4940 - acc: 0.7847 - val_loss: 0.4491 - val_acc: 0.8040\n",
      "Epoch 3/40\n",
      "155664/155664 [==============================] - 15s 97us/step - loss: 0.4591 - acc: 0.7995 - val_loss: 0.4277 - val_acc: 0.8134\n",
      "Epoch 4/40\n",
      "155664/155664 [==============================] - 16s 102us/step - loss: 0.4366 - acc: 0.8100 - val_loss: 0.4110 - val_acc: 0.8207\n",
      "Epoch 5/40\n",
      "155664/155664 [==============================] - 12s 74us/step - loss: 0.4191 - acc: 0.8174 - val_loss: 0.3996 - val_acc: 0.8248\n",
      "Epoch 6/40\n",
      "155664/155664 [==============================] - 11s 74us/step - loss: 0.4047 - acc: 0.8234 - val_loss: 0.3916 - val_acc: 0.8287\n",
      "Epoch 7/40\n",
      "155664/155664 [==============================] - 14s 89us/step - loss: 0.3932 - acc: 0.8296 - val_loss: 0.3892 - val_acc: 0.8287\n",
      "Epoch 8/40\n",
      "155664/155664 [==============================] - 12s 79us/step - loss: 0.3817 - acc: 0.8347 - val_loss: 0.3793 - val_acc: 0.8322\n",
      "Epoch 9/40\n",
      "155664/155664 [==============================] - 12s 80us/step - loss: 0.3750 - acc: 0.8374 - val_loss: 0.3807 - val_acc: 0.8330\n",
      "Epoch 10/40\n",
      "155664/155664 [==============================] - 12s 79us/step - loss: 0.3652 - acc: 0.8421 - val_loss: 0.3693 - val_acc: 0.8354\n",
      "Epoch 11/40\n",
      "155664/155664 [==============================] - 13s 83us/step - loss: 0.3573 - acc: 0.8456 - val_loss: 0.3642 - val_acc: 0.8383\n",
      "Epoch 12/40\n",
      "155664/155664 [==============================] - 13s 82us/step - loss: 0.3517 - acc: 0.8489 - val_loss: 0.3631 - val_acc: 0.8399\n",
      "Epoch 13/40\n",
      "155664/155664 [==============================] - 13s 82us/step - loss: 0.3436 - acc: 0.8516 - val_loss: 0.3711 - val_acc: 0.8389\n",
      "Epoch 14/40\n",
      "155664/155664 [==============================] - 13s 80us/step - loss: 0.3360 - acc: 0.8557 - val_loss: 0.3600 - val_acc: 0.8411\n",
      "Epoch 15/40\n",
      "155664/155664 [==============================] - 12s 80us/step - loss: 0.3312 - acc: 0.8574 - val_loss: 0.3569 - val_acc: 0.8422\n",
      "Epoch 16/40\n",
      "155664/155664 [==============================] - 13s 82us/step - loss: 0.3269 - acc: 0.8592 - val_loss: 0.3615 - val_acc: 0.8427\n",
      "Epoch 17/40\n",
      "155664/155664 [==============================] - 12s 80us/step - loss: 0.3202 - acc: 0.8629 - val_loss: 0.3522 - val_acc: 0.8447\n",
      "Epoch 18/40\n",
      "155664/155664 [==============================] - 12s 80us/step - loss: 0.3146 - acc: 0.8649 - val_loss: 0.3478 - val_acc: 0.8471\n",
      "Epoch 19/40\n",
      "155664/155664 [==============================] - 12s 80us/step - loss: 0.3084 - acc: 0.8675 - val_loss: 0.3481 - val_acc: 0.8483\n",
      "Epoch 20/40\n",
      "155664/155664 [==============================] - 13s 83us/step - loss: 0.3052 - acc: 0.8693 - val_loss: 0.3474 - val_acc: 0.8507\n",
      "Epoch 21/40\n",
      "155664/155664 [==============================] - 13s 81us/step - loss: 0.3010 - acc: 0.8711 - val_loss: 0.3462 - val_acc: 0.8473\n",
      "Epoch 22/40\n",
      "155664/155664 [==============================] - 12s 80us/step - loss: 0.2975 - acc: 0.8725 - val_loss: 0.3461 - val_acc: 0.8499\n",
      "Epoch 23/40\n",
      "155664/155664 [==============================] - 13s 80us/step - loss: 0.2917 - acc: 0.8748 - val_loss: 0.3443 - val_acc: 0.8507\n",
      "Epoch 24/40\n",
      "155664/155664 [==============================] - 13s 83us/step - loss: 0.2875 - acc: 0.8767 - val_loss: 0.3447 - val_acc: 0.8518\n",
      "Epoch 25/40\n",
      "155664/155664 [==============================] - 12s 77us/step - loss: 0.2859 - acc: 0.8778 - val_loss: 0.3435 - val_acc: 0.8521\n",
      "Epoch 26/40\n",
      "155664/155664 [==============================] - 12s 78us/step - loss: 0.2842 - acc: 0.8786 - val_loss: 0.3445 - val_acc: 0.8530\n",
      "Epoch 27/40\n",
      "155664/155664 [==============================] - 12s 78us/step - loss: 0.2784 - acc: 0.8812 - val_loss: 0.3489 - val_acc: 0.8543\n",
      "Epoch 28/40\n",
      "155664/155664 [==============================] - 12s 79us/step - loss: 0.2767 - acc: 0.8826 - val_loss: 0.3460 - val_acc: 0.8504\n",
      "Epoch 29/40\n",
      "155664/155664 [==============================] - 12s 79us/step - loss: 0.2702 - acc: 0.8855 - val_loss: 0.3418 - val_acc: 0.8546\n",
      "Epoch 30/40\n",
      "155664/155664 [==============================] - 14s 89us/step - loss: 0.2695 - acc: 0.8856 - val_loss: 0.3466 - val_acc: 0.8547\n",
      "Epoch 31/40\n",
      "155664/155664 [==============================] - 15s 94us/step - loss: 0.2719 - acc: 0.8856 - val_loss: 0.3501 - val_acc: 0.8524\n",
      "Epoch 32/40\n",
      "155664/155664 [==============================] - 13s 83us/step - loss: 0.2631 - acc: 0.8890 - val_loss: 0.3380 - val_acc: 0.8561\n",
      "Epoch 33/40\n",
      "155664/155664 [==============================] - 12s 78us/step - loss: 0.2593 - acc: 0.8908 - val_loss: 0.3363 - val_acc: 0.8585\n",
      "Epoch 34/40\n",
      "155664/155664 [==============================] - 12s 77us/step - loss: 0.2582 - acc: 0.8909 - val_loss: 0.3423 - val_acc: 0.8566\n",
      "Epoch 35/40\n",
      "155664/155664 [==============================] - 12s 77us/step - loss: 0.2575 - acc: 0.8913 - val_loss: 0.3548 - val_acc: 0.8535\n",
      "Epoch 36/40\n",
      "155664/155664 [==============================] - 12s 77us/step - loss: 0.2539 - acc: 0.8922 - val_loss: 0.3435 - val_acc: 0.8547\n",
      "Epoch 37/40\n",
      "155664/155664 [==============================] - 12s 79us/step - loss: 0.2481 - acc: 0.8949 - val_loss: 0.3446 - val_acc: 0.8565\n",
      "Epoch 38/40\n",
      "155664/155664 [==============================] - 12s 78us/step - loss: 0.2465 - acc: 0.8964 - val_loss: 0.3389 - val_acc: 0.8576\n",
      "Epoch 39/40\n",
      "155664/155664 [==============================] - 12s 78us/step - loss: 0.2471 - acc: 0.8965 - val_loss: 0.3511 - val_acc: 0.8548\n",
      "Epoch 40/40\n",
      "155664/155664 [==============================] - 12s 78us/step - loss: 0.2474 - acc: 0.8958 - val_loss: 0.3441 - val_acc: 0.8584\n"
     ]
    }
   ],
   "source": [
    "import keras\n",
    "from keras.models import Sequential\n",
    "from keras.layers import Dense, Dropout, GRU, LSTM, Flatten\n",
    "from keras.layers.normalization import BatchNormalization\n",
    "from keras import optimizers\n",
    "\n",
    "classifier = Sequential()\n",
    "\n",
    "######## race classification 87% test accuracy\n",
    "classifier.add(Dense(input_dim=300, output_dim=256, activation='relu'))\n",
    "classifier.add(BatchNormalization())\n",
    "classifier.add(Dropout(0.2))  # Dropout overfitting\n",
    "classifier.add(Dense(output_dim=256, activation='relu'))\n",
    "classifier.add(BatchNormalization())\n",
    "classifier.add(Dropout(0.1))\n",
    "classifier.add(Dense(output_dim=128, activation='relu'))\n",
    "classifier.add(BatchNormalization())\n",
    "classifier.add(Dropout(0.1))\n",
    "classifier.add(Dense(output_dim=128, activation='relu'))\n",
    "classifier.add(BatchNormalization())\n",
    "classifier.add(Dropout(0.1))\n",
    "classifier.add(Dense(output_dim=64, activation='relu'))\n",
    "classifier.add(BatchNormalization())\n",
    "classifier.add(Dropout(0.1))\n",
    "classifier.add(Dense(output_dim=32, activation='relu'))\n",
    "classifier.add(BatchNormalization())\n",
    "classifier.add(Dropout(0.1))\n",
    "classifier.add(Dense(output_dim=4, activation='softmax'))\n",
    "\n",
    "##### gender classification model 98% test acc\n",
    "# classifier1.add(Dense(input_dim=300, output_dim=256, activation='relu'))\n",
    "# classifier1.add(BatchNormalization())\n",
    "# classifier1.add(Dropout(0.1))  # Dropout overfitting\n",
    "# classifier1.add(Dense(output_dim=128, activation='relu'))\n",
    "# classifier1.add(BatchNormalization())\n",
    "# classifier1.add(Dropout(0.1))\n",
    "# classifier1.add(Dense(output_dim=128, activation='relu'))\n",
    "# classifier1.add(BatchNormalization())\n",
    "# classifier1.add(Dropout(0.1))\n",
    "# classifier1.add(Dense(output_dim=64, activation='relu'))\n",
    "# classifier1.add(BatchNormalization())\n",
    "# classifier1.add(Dropout(0.1))\n",
    "# classifier1.add(Dense(output_dim=64, activation='relu'))\n",
    "# classifier1.add(BatchNormalization())\n",
    "# classifier1.add(Dropout(0.1))\n",
    "# classifier1.add(Dense(output_dim=32, activation='relu'))\n",
    "# classifier1.add(BatchNormalization())\n",
    "# classifier1.add(Dropout(0.1))\n",
    "# classifier1.add(Dense(output_dim=2, activation='softmax'))\n",
    "\n",
    "\n",
    "classifier.compile(loss=\"categorical_crossentropy\", optimizer=\"adam\", metrics = ['accuracy'])\n",
    "history = classifier.fit(X_train, y_train, validation_data=(X_test, y_test), epochs=40, batch_size=256)\n",
    "\n",
    "# classifier1.compile(loss=\"categorical_crossentropy\", optimizer=\"adam\", metrics = ['accuracy'])\n",
    "# history1 = classifier1.fit(X_train, y_train, validation_data=(X_test, y_test), epochs=60, batch_size=256)"
   ]
  },
  {
   "cell_type": "code",
   "execution_count": 232,
   "metadata": {},
   "outputs": [],
   "source": [
    "def predict_gen(name):\n",
    "    name = name.lower()\n",
    "    classes = ['female','male']\n",
    "    namevec = model1[list(name)+features(name)].sum(axis=0).flatten()\n",
    "    pred = classifier1.predict(namevec.reshape(1,300))\n",
    "    predprob = pred[0][np.argmax(pred)]*100\n",
    "    gender = classes[np.argmax(pred)]\n",
    "    return f'{name} is probably a {gender}.... chances:{predprob}%'\n",
    "\n",
    "def predict_race(name):\n",
    "    try:\n",
    "        name = name.lower()\n",
    "        classes = ['black','hispanic','indian','white']\n",
    "        namevec = model1[list(name)+features(name)].sum(axis=0).flatten()\n",
    "        pred = classifier.predict(sc.transform(namevec.reshape(1,300)))\n",
    "        predprob = pred[0][np.argmax(pred)]*100\n",
    "        race = classes[np.argmax(pred)]\n",
    "    except:\n",
    "        return \"None\"\n",
    "    return f'{name} is {race}....{predprob}%.....probs:{pred[0]} for {classes} respectively'"
   ]
  },
  {
   "cell_type": "code",
   "execution_count": 240,
   "metadata": {},
   "outputs": [
    {
     "name": "stderr",
     "output_type": "stream",
     "text": [
      "/Library/Frameworks/Python.framework/Versions/3.6/lib/python3.6/site-packages/ipykernel_launcher.py:14: DeprecationWarning: Call to deprecated `__getitem__` (Method will be removed in 4.0.0, use self.wv.__getitem__() instead).\n",
      "  \n"
     ]
    },
    {
     "data": {
      "text/plain": [
       "\"narendra modi is indian....99.84652996063232%.....probs:[6.9197454e-04 4.4284065e-05 9.9846530e-01 7.9839397e-04] for ['black', 'hispanic', 'indian', 'white'] respectively\""
      ]
     },
     "execution_count": 240,
     "metadata": {},
     "output_type": "execute_result"
    }
   ],
   "source": [
    "predict_race('narendra modi')"
   ]
  },
  {
   "cell_type": "code",
   "execution_count": 234,
   "metadata": {},
   "outputs": [],
   "source": [
    "y_pred = classifier.predict(X_test)"
   ]
  },
  {
   "cell_type": "code",
   "execution_count": 235,
   "metadata": {},
   "outputs": [],
   "source": [
    "classes = ['black','hispanic','indian','white']\n",
    "test_class = []\n",
    "pred_class = []\n",
    "for i in range(len(y_pred)):\n",
    "    test_class.append([classes[np.argmax(y_test[i])]])\n",
    "    pred_class.append([classes[np.argmax(y_pred[i])]])"
   ]
  },
  {
   "cell_type": "code",
   "execution_count": 236,
   "metadata": {},
   "outputs": [
    {
     "name": "stdout",
     "output_type": "stream",
     "text": [
      "[[7680   87   33 1967]\n",
      " [   0 9687    0    5]\n",
      " [  19    0 9595   25]\n",
      " [2404  894   77 6443]]\n",
      "              precision    recall  f1-score   support\n",
      "\n",
      "       black       0.76      0.79      0.77      9767\n",
      "    hispanic       0.91      1.00      0.95      9692\n",
      "      indian       0.99      1.00      0.99      9639\n",
      "       white       0.76      0.66      0.71      9818\n",
      "\n",
      "   micro avg       0.86      0.86      0.86     38916\n",
      "   macro avg       0.86      0.86      0.86     38916\n",
      "weighted avg       0.85      0.86      0.85     38916\n",
      "\n"
     ]
    }
   ],
   "source": [
    "from sklearn.metrics import confusion_matrix, classification_report\n",
    "cm = confusion_matrix(test_class, pred_class)\n",
    "print(cm)\n",
    "print(classification_report(test_class, pred_class,target_names=classes))"
   ]
  },
  {
   "cell_type": "code",
   "execution_count": null,
   "metadata": {},
   "outputs": [],
   "source": [
    "from keras.layers.embeddings import Embedding\n"
   ]
  },
  {
   "cell_type": "code",
   "execution_count": 241,
   "metadata": {},
   "outputs": [
    {
     "name": "stderr",
     "output_type": "stream",
     "text": [
      "  0%|          | 0/120719 [00:00<?, ?it/s]/Library/Frameworks/Python.framework/Versions/3.6/lib/python3.6/site-packages/ipykernel_launcher.py:4: DeprecationWarning: Call to deprecated `__getitem__` (Method will be removed in 4.0.0, use self.wv.__getitem__() instead).\n",
      "  after removing the cwd from sys.path.\n",
      "100%|██████████| 120719/120719 [00:31<00:00, 3840.00it/s]\n"
     ]
    }
   ],
   "source": [
    "y = dataset.iloc[:, 2].values\n",
    "X = []\n",
    "for c in tqdm(corpus):\n",
    "\tvecs = model1[list(c) + features(c)]\n",
    "\tX.append(vecs)\n",
    "X = np.array(X)"
   ]
  },
  {
   "cell_type": "code",
   "execution_count": 242,
   "metadata": {},
   "outputs": [
    {
     "data": {
      "text/plain": [
       "(120719,)"
      ]
     },
     "execution_count": 242,
     "metadata": {},
     "output_type": "execute_result"
    }
   ],
   "source": [
    "X.shape"
   ]
  },
  {
   "cell_type": "code",
   "execution_count": null,
   "metadata": {},
   "outputs": [],
   "source": [
    "import keras\n",
    "from keras.models import Sequential\n",
    "from keras.layers import Dense, Dropout, LSTM, Flatten\n",
    "from keras.layers.normalization import BatchNormalization\n",
    "\n",
    "model = Sequential()\n",
    "model.add(LSTM(300, return_sequences=True, input_shape=(30,28)))\n",
    "model.add(Dropout(0.2))\n",
    "model.add(LSTM(300, return_sequences=False))\n",
    "model.add(Dropout(0.1))\n",
    "model.add(Dense(output_dim=32, activation='relu'))\n",
    "model.add(BatchNormalization())\n",
    "model.add(Dropout(0.1))\n",
    "model.add(Dense(2, activation='softmax'))\n",
    "model.compile(loss='categorical_crossentropy', optimizer='adam',metrics=['accuracy'])\n",
    "\n",
    "history = model.fit(X_train, y_train, validation_data=(X_test, y_test), epochs=20, batch_size=2048)"
   ]
  },
  {
   "cell_type": "code",
   "execution_count": null,
   "metadata": {},
   "outputs": [],
   "source": []
  }
 ],
 "metadata": {
  "kernelspec": {
   "display_name": "Python 3",
   "language": "python",
   "name": "python3"
  },
  "language_info": {
   "codemirror_mode": {
    "name": "ipython",
    "version": 3
   },
   "file_extension": ".py",
   "mimetype": "text/x-python",
   "name": "python",
   "nbconvert_exporter": "python",
   "pygments_lexer": "ipython3",
   "version": "3.6.5"
  }
 },
 "nbformat": 4,
 "nbformat_minor": 2
}
